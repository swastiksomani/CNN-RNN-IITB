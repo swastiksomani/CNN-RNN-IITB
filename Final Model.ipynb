{
 "cells": [
  {
   "cell_type": "markdown",
   "metadata": {},
   "source": [
    "# Gesture Recognition\n",
    "In this group project, you are going to build a 3D Conv model that will be able to predict the 5 gestures correctly. Please import the following libraries to get started."
   ]
  },
  {
   "cell_type": "code",
   "execution_count": 1,
   "metadata": {},
   "outputs": [],
   "source": [
    "import numpy as np\n",
    "import os\n",
    "from scipy.misc import imread, imresize\n",
    "import datetime\n",
    "import os"
   ]
  },
  {
   "cell_type": "code",
   "execution_count": 2,
   "metadata": {},
   "outputs": [],
   "source": [
    "import warnings\n",
    "warnings.filterwarnings('ignore')"
   ]
  },
  {
   "cell_type": "markdown",
   "metadata": {},
   "source": [
    "We set the random seed so that the results don't vary drastically."
   ]
  },
  {
   "cell_type": "code",
   "execution_count": 3,
   "metadata": {},
   "outputs": [
    {
     "name": "stderr",
     "output_type": "stream",
     "text": [
      "Using TensorFlow backend.\n"
     ]
    }
   ],
   "source": [
    "np.random.seed(30)\n",
    "import random as rn\n",
    "rn.seed(30)\n",
    "from keras import backend as K\n",
    "import tensorflow as tf\n",
    "tf.set_random_seed(30)"
   ]
  },
  {
   "cell_type": "markdown",
   "metadata": {},
   "source": [
    "In this block, you read the folder names for training and validation. You also set the `batch_size` here. Note that you set the batch size in such a way that you are able to use the GPU in full capacity. You keep increasing the batch size until the machine throws an error."
   ]
  },
  {
   "cell_type": "code",
   "execution_count": 4,
   "metadata": {},
   "outputs": [],
   "source": [
    "train_doc = np.random.permutation(open('./Project_data/train.csv').readlines())\n",
    "val_doc = np.random.permutation(open('./Project_data/val.csv').readlines())\n",
    "batch_size = 64"
   ]
  },
  {
   "cell_type": "markdown",
   "metadata": {},
   "source": [
    "## Generator\n",
    "This is one of the most important part of the code. The overall structure of the generator has been given. In the generator, you are going to preprocess the images as you have images of 2 different dimensions as well as create a batch of video frames. You have to experiment with `img_idx`, `y`,`z` and normalization such that you get high accuracy."
   ]
  },
  {
   "cell_type": "code",
   "execution_count": 5,
   "metadata": {},
   "outputs": [],
   "source": [
    "\n",
    "from keras.preprocessing import image\n",
    "from PIL import Image\n",
    "  "
   ]
  },
  {
   "cell_type": "code",
   "execution_count": 6,
   "metadata": {},
   "outputs": [],
   "source": [
    "def generator(source_path, folder_list, batch_size):\n",
    "    print( 'Source path = ', source_path, '; batch size =', batch_size)\n",
    "    \n",
    "    img_idx = [i for i in range(0, 20)]\n",
    "    \n",
    "    x = 20 # number of images you use for each video\n",
    "    y = 120 # image height\n",
    "    z = 120 # image width\n",
    "    \n",
    "    \n",
    "    \n",
    "    while True:\n",
    "        t = np.random.permutation(folder_list)\n",
    "        num_batches = int(len(t)/batch_size) # calculate the number of batches\n",
    "        \n",
    "        for batch in range(num_batches): # we iterate over the number of batches\n",
    "            \n",
    "            batch_data = np.zeros((batch_size,x,y,z,3)) # x is the number of images you use for each video, (y,z) is the final size of the input images and 3 is the number of channels RGB\n",
    "            batch_labels = np.zeros((batch_size,5)) # batch_labels is the one hot representation of the output\n",
    "            \n",
    "            for folder in range(batch_size): # iterate over the batch_size\n",
    "                \n",
    "                imgs = os.listdir(source_path+'/'+ t[folder + (batch*batch_size)].split(';')[0]) # read all the images in the folder\n",
    "                \n",
    "                for idx,item  in enumerate(img_idx): #  Iterate iver the frames/images of a folder to read them in\n",
    "                    image = imread(source_path+'/'+ t[folder + (batch*batch_size)].strip().split(';')[0]+'/'+imgs[item]).astype(np.float32)\n",
    "                    #crop the images and resize them. Note that the images are of 2 different shape \n",
    "                    #and the conv3D will throw error if the inputs in a batch have different shapes\n",
    "                    \n",
    "                    resized = imresize(image, (y,z))\n",
    "                    \n",
    "                    \n",
    "                      \n",
    "                    batch_data[folder,idx,:,:,0] = resized[:, : , 0]/255\n",
    "                    batch_data[folder,idx,:,:,1] = resized[:, : , 1]/255\n",
    "                    batch_data[folder,idx,:,:,2] = resized[:, : , 2]/255\n",
    "                    \n",
    "                batch_labels[folder, int(t[folder + (batch*batch_size)].strip().split(';')[2])] = 1\n",
    "            yield batch_data, batch_labels #you yield the batch_data and the batch_labels, remember what does yield do\n",
    "\n",
    "        \n",
    "        # write the code for the remaining data points which are left after full batches\n",
    "        remaining = len(t) - num_batches*batch_size\n",
    "        batch_data = np.zeros((remaining,x,y,z,3))\n",
    "        batch_labels = np.zeros((remaining,5))\n",
    "        for folder in range(remaining):\n",
    "            imgs = os.listdir(source_path+\"/\"+t[num_batches*batch_size + folder].split(';')[0])\n",
    "            for idx,item in enumerate(img_idx):\n",
    "                \n",
    "                image = imread(source_path+\"/\"+t[num_batches*batch_size + folder].split(';')[0]+'/'+imgs[item]).astype(np.float32)\n",
    "                    \n",
    "                \n",
    "                    \n",
    "                resized = imresize(image, (y,z))\n",
    "                    \n",
    "                batch_data[folder,idx,:,:,0] = resized[:, : , 0]/255\n",
    "                batch_data[folder,idx,:,:,1] = resized[:, : , 1]/255\n",
    "                batch_data[folder,idx,:,:,2] = resized[:, : , 2]/255\n",
    "\n",
    "            batch_labels[folder, int(t[folder + num_batches*batch_size].strip().split(';')[2])] = 1\n",
    "        yield batch_data, batch_labels"
   ]
  },
  {
   "cell_type": "markdown",
   "metadata": {},
   "source": [
    "Note here that a video is represented above in the generator as (number of images, height, width, number of channels). Take this into consideration while creating the model architecture."
   ]
  },
  {
   "cell_type": "code",
   "execution_count": 7,
   "metadata": {},
   "outputs": [
    {
     "name": "stdout",
     "output_type": "stream",
     "text": [
      "# training sequences = 663\n",
      "# validation sequences = 100\n",
      "# epochs = 20\n"
     ]
    }
   ],
   "source": [
    "curr_dt_time = datetime.datetime.now()\n",
    "train_path = './Project_data/train'\n",
    "val_path = './Project_data/val'\n",
    "num_train_sequences = len(train_doc)\n",
    "print('# training sequences =', num_train_sequences)\n",
    "num_val_sequences = len(val_doc)\n",
    "print('# validation sequences =', num_val_sequences)\n",
    "num_epochs = 20 # choose the number of epochs\n",
    "print ('# epochs =', num_epochs)"
   ]
  },
  {
   "cell_type": "markdown",
   "metadata": {},
   "source": [
    "## Model\n",
    "Here you make the model using different functionalities that Keras provides. Remember to use `Conv3D` and `MaxPooling3D` and not `Conv2D` and `Maxpooling2D` for a 3D convolution model. You would want to use `TimeDistributed` while building a Conv2D + RNN model. Also remember that the last layer is the softmax. Design the network in such a way that the model is able to give good accuracy on the least number of parameters so that it can fit in the memory of the webcam."
   ]
  },
  {
   "cell_type": "code",
   "execution_count": 8,
   "metadata": {},
   "outputs": [],
   "source": [
    "from keras.models import Sequential, Model\n",
    "from keras.layers import Dense, GRU, Flatten, TimeDistributed, Flatten, BatchNormalization, Activation, Dropout,LSTM\n",
    "from keras.layers.convolutional import Conv3D,Conv2D, MaxPooling3D,MaxPooling2D\n",
    "from keras.callbacks import ModelCheckpoint, ReduceLROnPlateau\n",
    "from keras import optimizers\n",
    "from keras.applications import ResNet50\n",
    "from keras.applications.resnet50 import preprocess_input\n",
    "from keras.layers.recurrent import LSTM, GRU\n",
    "from keras.optimizers import Adam"
   ]
  },
  {
   "cell_type": "markdown",
   "metadata": {},
   "source": [
    "#### Lets start with simple model"
   ]
  },
  {
   "cell_type": "code",
   "execution_count": 9,
   "metadata": {},
   "outputs": [],
   "source": [
    "model = Sequential()\n",
    "\n",
    "model.add(Conv3D(16, (3, 3, 3),padding='same' ,input_shape=(20,120,120,3)))\n",
    "model.add(Activation('relu'))\n",
    "model.add(BatchNormalization())\n",
    "model.add(MaxPooling3D(pool_size=(2, 2, 2)))\n",
    "\n",
    "model.add(Conv3D(32, (3, 3, 3),padding='same'))\n",
    "model.add(Activation('relu'))\n",
    "model.add(BatchNormalization())\n",
    "model.add(MaxPooling3D(pool_size=(2, 2, 2)))\n",
    "\n",
    "model.add(Conv3D(64, (3, 3, 3),padding='same'))\n",
    "model.add(Activation('relu'))\n",
    "model.add(BatchNormalization())\n",
    "model.add(MaxPooling3D(pool_size=(2, 2, 2)))\n",
    "\n",
    "model.add(Conv3D(128, (3, 3, 3),padding='same'))\n",
    "model.add(Activation('relu'))\n",
    "model.add(BatchNormalization())\n",
    "model.add(MaxPooling3D(pool_size=(2, 2, 2)))\n",
    "\n",
    "\n",
    "\n",
    "model.add(Flatten())\n",
    "model.add(Dense(128,activation='relu'))\n",
    "model.add(BatchNormalization())\n",
    "\n",
    "model.add(Dense(5,activation='softmax'))"
   ]
  },
  {
   "cell_type": "code",
   "execution_count": 10,
   "metadata": {},
   "outputs": [
    {
     "name": "stdout",
     "output_type": "stream",
     "text": [
      "_________________________________________________________________\n",
      "Layer (type)                 Output Shape              Param #   \n",
      "=================================================================\n",
      "conv3d_1 (Conv3D)            (None, 20, 120, 120, 16)  1312      \n",
      "_________________________________________________________________\n",
      "activation_1 (Activation)    (None, 20, 120, 120, 16)  0         \n",
      "_________________________________________________________________\n",
      "batch_normalization_1 (Batch (None, 20, 120, 120, 16)  64        \n",
      "_________________________________________________________________\n",
      "max_pooling3d_1 (MaxPooling3 (None, 10, 60, 60, 16)    0         \n",
      "_________________________________________________________________\n",
      "conv3d_2 (Conv3D)            (None, 10, 60, 60, 32)    13856     \n",
      "_________________________________________________________________\n",
      "activation_2 (Activation)    (None, 10, 60, 60, 32)    0         \n",
      "_________________________________________________________________\n",
      "batch_normalization_2 (Batch (None, 10, 60, 60, 32)    128       \n",
      "_________________________________________________________________\n",
      "max_pooling3d_2 (MaxPooling3 (None, 5, 30, 30, 32)     0         \n",
      "_________________________________________________________________\n",
      "conv3d_3 (Conv3D)            (None, 5, 30, 30, 64)     55360     \n",
      "_________________________________________________________________\n",
      "activation_3 (Activation)    (None, 5, 30, 30, 64)     0         \n",
      "_________________________________________________________________\n",
      "batch_normalization_3 (Batch (None, 5, 30, 30, 64)     256       \n",
      "_________________________________________________________________\n",
      "max_pooling3d_3 (MaxPooling3 (None, 2, 15, 15, 64)     0         \n",
      "_________________________________________________________________\n",
      "conv3d_4 (Conv3D)            (None, 2, 15, 15, 128)    221312    \n",
      "_________________________________________________________________\n",
      "activation_4 (Activation)    (None, 2, 15, 15, 128)    0         \n",
      "_________________________________________________________________\n",
      "batch_normalization_4 (Batch (None, 2, 15, 15, 128)    512       \n",
      "_________________________________________________________________\n",
      "max_pooling3d_4 (MaxPooling3 (None, 1, 7, 7, 128)      0         \n",
      "_________________________________________________________________\n",
      "flatten_1 (Flatten)          (None, 6272)              0         \n",
      "_________________________________________________________________\n",
      "dense_1 (Dense)              (None, 128)               802944    \n",
      "_________________________________________________________________\n",
      "batch_normalization_5 (Batch (None, 128)               512       \n",
      "_________________________________________________________________\n",
      "dense_2 (Dense)              (None, 5)                 645       \n",
      "=================================================================\n",
      "Total params: 1,096,901\n",
      "Trainable params: 1,096,165\n",
      "Non-trainable params: 736\n",
      "_________________________________________________________________\n",
      "None\n"
     ]
    }
   ],
   "source": [
    "optimiser =Adam(0.001) #write your optimizer\n",
    "model.compile(optimizer=optimiser, loss='categorical_crossentropy', metrics=['categorical_accuracy'])\n",
    "print (model.summary())"
   ]
  },
  {
   "cell_type": "code",
   "execution_count": 11,
   "metadata": {},
   "outputs": [],
   "source": [
    "train_generator = generator(train_path, train_doc, batch_size)\n",
    "val_generator = generator(val_path, val_doc, batch_size)"
   ]
  },
  {
   "cell_type": "code",
   "execution_count": 12,
   "metadata": {},
   "outputs": [],
   "source": [
    "model_name = 'model_init1' + '_' + str(curr_dt_time).replace(' ','').replace(':','_') + '/'\n",
    "    \n",
    "if not os.path.exists(model_name):\n",
    "    os.mkdir(model_name)\n",
    "        \n",
    "filepath = model_name + 'model-{epoch:05d}-{loss:.5f}-{categorical_accuracy:.5f}-{val_loss:.5f}-{val_categorical_accuracy:.5f}.h5'\n",
    "\n",
    "checkpoint = ModelCheckpoint(filepath, monitor='val_loss', verbose=1, save_best_only=False, save_weights_only=False, mode='auto', period=1)\n",
    "\n",
    "LR = ReduceLROnPlateau(monitor='val_loss', factor=0.01, patience=5, cooldown=4, verbose=1,mode='auto',epsilon=0.0001) # write the REducelronplateau code here\n",
    "callbacks_list = [checkpoint, LR]"
   ]
  },
  {
   "cell_type": "code",
   "execution_count": 13,
   "metadata": {},
   "outputs": [],
   "source": [
    "if (num_train_sequences%batch_size) == 0:\n",
    "    steps_per_epoch = int(num_train_sequences/batch_size)\n",
    "else:\n",
    "    steps_per_epoch = (num_train_sequences//batch_size) + 1\n",
    "\n",
    "if (num_val_sequences%batch_size) == 0:\n",
    "    validation_steps = int(num_val_sequences/batch_size)\n",
    "else:\n",
    "    validation_steps = (num_val_sequences//batch_size) + 1"
   ]
  },
  {
   "cell_type": "code",
   "execution_count": 14,
   "metadata": {},
   "outputs": [
    {
     "name": "stdout",
     "output_type": "stream",
     "text": [
      "Source path =  ./Project_data/val ; batch size = 64\n",
      "Source path =  ./Project_data/train ; batch size = 64\n",
      "Epoch 1/10\n",
      "11/11 [==============================] - 63s 6s/step - loss: 1.2749 - categorical_accuracy: 0.5260 - val_loss: 3.4163 - val_categorical_accuracy: 0.3500\n",
      "\n",
      "Epoch 00001: saving model to model_init1_2020-12-2811_48_09.796980/model-00001-1.27542-0.51885-3.41630-0.35000.h5\n",
      "Epoch 2/10\n",
      "11/11 [==============================] - 46s 4s/step - loss: 0.5739 - categorical_accuracy: 0.8031 - val_loss: 3.2330 - val_categorical_accuracy: 0.4400\n",
      "\n",
      "Epoch 00002: saving model to model_init1_2020-12-2811_48_09.796980/model-00002-0.58128-0.79940-3.23303-0.44000.h5\n",
      "Epoch 3/10\n",
      "11/11 [==============================] - 47s 4s/step - loss: 0.3479 - categorical_accuracy: 0.8854 - val_loss: 0.9639 - val_categorical_accuracy: 0.6500\n",
      "\n",
      "Epoch 00003: saving model to model_init1_2020-12-2811_48_09.796980/model-00003-0.34972-0.88386-0.96395-0.65000.h5\n",
      "Epoch 4/10\n",
      "11/11 [==============================] - 46s 4s/step - loss: 0.1573 - categorical_accuracy: 0.9743 - val_loss: 0.6137 - val_categorical_accuracy: 0.7300\n",
      "\n",
      "Epoch 00004: saving model to model_init1_2020-12-2811_48_09.796980/model-00004-0.15695-0.97285-0.61372-0.73000.h5\n",
      "Epoch 5/10\n",
      "11/11 [==============================] - 46s 4s/step - loss: 0.0845 - categorical_accuracy: 0.9929 - val_loss: 0.7101 - val_categorical_accuracy: 0.7700\n",
      "\n",
      "Epoch 00005: saving model to model_init1_2020-12-2811_48_09.796980/model-00005-0.08355-0.99246-0.71008-0.77000.h5\n",
      "Epoch 6/10\n",
      "11/11 [==============================] - 47s 4s/step - loss: 0.0410 - categorical_accuracy: 1.0000 - val_loss: 0.6315 - val_categorical_accuracy: 0.7600\n",
      "\n",
      "Epoch 00006: saving model to model_init1_2020-12-2811_48_09.796980/model-00006-0.04080-1.00000-0.63155-0.76000.h5\n",
      "Epoch 7/10\n",
      "11/11 [==============================] - 47s 4s/step - loss: 0.0221 - categorical_accuracy: 1.0000 - val_loss: 0.6583 - val_categorical_accuracy: 0.7400\n",
      "\n",
      "Epoch 00007: saving model to model_init1_2020-12-2811_48_09.796980/model-00007-0.02133-1.00000-0.65827-0.74000.h5\n",
      "Epoch 8/10\n",
      "11/11 [==============================] - 47s 4s/step - loss: 0.0169 - categorical_accuracy: 0.9971 - val_loss: 0.7328 - val_categorical_accuracy: 0.7600\n",
      "\n",
      "Epoch 00008: saving model to model_init1_2020-12-2811_48_09.796980/model-00008-0.01676-0.99698-0.73276-0.76000.h5\n",
      "Epoch 9/10\n",
      "11/11 [==============================] - 45s 4s/step - loss: 0.0129 - categorical_accuracy: 1.0000 - val_loss: 0.6636 - val_categorical_accuracy: 0.7400\n",
      "\n",
      "Epoch 00009: saving model to model_init1_2020-12-2811_48_09.796980/model-00009-0.01320-1.00000-0.66360-0.74000.h5\n",
      "\n",
      "Epoch 00009: ReduceLROnPlateau reducing learning rate to 1.0000000474974514e-05.\n",
      "Epoch 10/10\n",
      "11/11 [==============================] - 45s 4s/step - loss: 0.0104 - categorical_accuracy: 1.0000 - val_loss: 0.6023 - val_categorical_accuracy: 0.7700\n",
      "\n",
      "Epoch 00010: saving model to model_init1_2020-12-2811_48_09.796980/model-00010-0.01029-1.00000-0.60233-0.77000.h5\n"
     ]
    },
    {
     "data": {
      "text/plain": [
       "<keras.callbacks.History at 0x7faadf9e19e8>"
      ]
     },
     "execution_count": 14,
     "metadata": {},
     "output_type": "execute_result"
    }
   ],
   "source": [
    "num_epochs = 10\n",
    "model.fit_generator(train_generator, steps_per_epoch=steps_per_epoch, epochs=num_epochs, verbose=1, \n",
    "                    callbacks=callbacks_list, validation_data=val_generator, \n",
    "                    validation_steps=validation_steps, class_weight=None, workers=1, initial_epoch=0)"
   ]
  },
  {
   "cell_type": "markdown",
   "metadata": {},
   "source": [
    "#### Model is clearly overfiting. Lets add some dropout into it."
   ]
  },
  {
   "cell_type": "code",
   "execution_count": 15,
   "metadata": {},
   "outputs": [],
   "source": [
    "model = Sequential()\n",
    "\n",
    "model.add(Conv3D(16, (3, 3, 3),padding='same' ,input_shape=(20,120,120,3)))\n",
    "model.add(Activation('relu'))\n",
    "model.add(BatchNormalization())\n",
    "model.add(MaxPooling3D(pool_size=(2, 2, 2)))\n",
    "model.add(Dropout(0.25))\n",
    "\n",
    "model.add(Conv3D(32, (3, 3, 3),padding='same'))\n",
    "model.add(Activation('relu'))\n",
    "model.add(BatchNormalization())\n",
    "model.add(MaxPooling3D(pool_size=(2, 2, 2)))\n",
    "model.add(Dropout(0.25))\n",
    "\n",
    "model.add(Conv3D(64, (3, 3, 3),padding='same'))\n",
    "model.add(Activation('relu'))\n",
    "model.add(BatchNormalization())\n",
    "model.add(MaxPooling3D(pool_size=(2, 2, 2)))\n",
    "model.add(Dropout(0.25))\n",
    "\n",
    "model.add(Conv3D(128, (3, 3, 3),padding='same'))\n",
    "model.add(Activation('relu'))\n",
    "model.add(BatchNormalization())\n",
    "model.add(MaxPooling3D(pool_size=(2, 2, 2)))\n",
    "model.add(Dropout(0.25))\n",
    "\n",
    "\n",
    "\n",
    "model.add(Flatten())\n",
    "model.add(Dense(128,activation='relu'))\n",
    "model.add(BatchNormalization())\n",
    "model.add(Dropout(0.25))\n",
    "\n",
    "model.add(Dense(5,activation='softmax'))"
   ]
  },
  {
   "cell_type": "code",
   "execution_count": 16,
   "metadata": {},
   "outputs": [
    {
     "name": "stdout",
     "output_type": "stream",
     "text": [
      "_________________________________________________________________\n",
      "Layer (type)                 Output Shape              Param #   \n",
      "=================================================================\n",
      "conv3d_5 (Conv3D)            (None, 20, 120, 120, 16)  1312      \n",
      "_________________________________________________________________\n",
      "activation_5 (Activation)    (None, 20, 120, 120, 16)  0         \n",
      "_________________________________________________________________\n",
      "batch_normalization_6 (Batch (None, 20, 120, 120, 16)  64        \n",
      "_________________________________________________________________\n",
      "max_pooling3d_5 (MaxPooling3 (None, 10, 60, 60, 16)    0         \n",
      "_________________________________________________________________\n",
      "dropout_1 (Dropout)          (None, 10, 60, 60, 16)    0         \n",
      "_________________________________________________________________\n",
      "conv3d_6 (Conv3D)            (None, 10, 60, 60, 32)    13856     \n",
      "_________________________________________________________________\n",
      "activation_6 (Activation)    (None, 10, 60, 60, 32)    0         \n",
      "_________________________________________________________________\n",
      "batch_normalization_7 (Batch (None, 10, 60, 60, 32)    128       \n",
      "_________________________________________________________________\n",
      "max_pooling3d_6 (MaxPooling3 (None, 5, 30, 30, 32)     0         \n",
      "_________________________________________________________________\n",
      "dropout_2 (Dropout)          (None, 5, 30, 30, 32)     0         \n",
      "_________________________________________________________________\n",
      "conv3d_7 (Conv3D)            (None, 5, 30, 30, 64)     55360     \n",
      "_________________________________________________________________\n",
      "activation_7 (Activation)    (None, 5, 30, 30, 64)     0         \n",
      "_________________________________________________________________\n",
      "batch_normalization_8 (Batch (None, 5, 30, 30, 64)     256       \n",
      "_________________________________________________________________\n",
      "max_pooling3d_7 (MaxPooling3 (None, 2, 15, 15, 64)     0         \n",
      "_________________________________________________________________\n",
      "dropout_3 (Dropout)          (None, 2, 15, 15, 64)     0         \n",
      "_________________________________________________________________\n",
      "conv3d_8 (Conv3D)            (None, 2, 15, 15, 128)    221312    \n",
      "_________________________________________________________________\n",
      "activation_8 (Activation)    (None, 2, 15, 15, 128)    0         \n",
      "_________________________________________________________________\n",
      "batch_normalization_9 (Batch (None, 2, 15, 15, 128)    512       \n",
      "_________________________________________________________________\n",
      "max_pooling3d_8 (MaxPooling3 (None, 1, 7, 7, 128)      0         \n",
      "_________________________________________________________________\n",
      "dropout_4 (Dropout)          (None, 1, 7, 7, 128)      0         \n",
      "_________________________________________________________________\n",
      "flatten_2 (Flatten)          (None, 6272)              0         \n",
      "_________________________________________________________________\n",
      "dense_3 (Dense)              (None, 128)               802944    \n",
      "_________________________________________________________________\n",
      "batch_normalization_10 (Batc (None, 128)               512       \n",
      "_________________________________________________________________\n",
      "dropout_5 (Dropout)          (None, 128)               0         \n",
      "_________________________________________________________________\n",
      "dense_4 (Dense)              (None, 5)                 645       \n",
      "=================================================================\n",
      "Total params: 1,096,901\n",
      "Trainable params: 1,096,165\n",
      "Non-trainable params: 736\n",
      "_________________________________________________________________\n",
      "None\n"
     ]
    }
   ],
   "source": [
    "optimiser =Adam(0.001) #write your optimizer\n",
    "model.compile(optimizer=optimiser, loss='categorical_crossentropy', metrics=['categorical_accuracy'])\n",
    "print (model.summary())"
   ]
  },
  {
   "cell_type": "code",
   "execution_count": 17,
   "metadata": {},
   "outputs": [],
   "source": [
    "model_name = 'model_init2' + '_' + str(curr_dt_time).replace(' ','').replace(':','_') + '/'\n",
    "    \n",
    "if not os.path.exists(model_name):\n",
    "    os.mkdir(model_name)\n",
    "        \n",
    "filepath = model_name + 'model-{epoch:05d}-{loss:.5f}-{categorical_accuracy:.5f}-{val_loss:.5f}-{val_categorical_accuracy:.5f}.h5'\n",
    "\n",
    "checkpoint = ModelCheckpoint(filepath, monitor='val_loss', verbose=1, save_best_only=False, save_weights_only=False, mode='auto', period=1)\n",
    "\n",
    "LR = ReduceLROnPlateau(monitor='val_loss', factor=0.01, patience=5, cooldown=4, verbose=1,mode='auto',epsilon=0.0001) # write the REducelronplateau code here\n",
    "callbacks_list = [checkpoint, LR]"
   ]
  },
  {
   "cell_type": "code",
   "execution_count": 18,
   "metadata": {},
   "outputs": [
    {
     "name": "stdout",
     "output_type": "stream",
     "text": [
      "Epoch 1/10\n",
      "11/11 [==============================] - 60s 5s/step - loss: 1.6797 - categorical_accuracy: 0.3993 - val_loss: 2.2353 - val_categorical_accuracy: 0.2800\n",
      "\n",
      "Epoch 00001: saving model to model_init2_2020-12-2811_48_09.796980/model-00001-1.69133-0.39970-2.23531-0.28000.h5\n",
      "Epoch 2/10\n",
      "11/11 [==============================] - 46s 4s/step - loss: 1.0710 - categorical_accuracy: 0.5588 - val_loss: 2.3183 - val_categorical_accuracy: 0.3800\n",
      "\n",
      "Epoch 00002: saving model to model_init2_2020-12-2811_48_09.796980/model-00002-1.07765-0.55354-2.31828-0.38000.h5\n",
      "Epoch 3/10\n",
      "11/11 [==============================] - 47s 4s/step - loss: 0.9095 - categorical_accuracy: 0.6313 - val_loss: 1.8076 - val_categorical_accuracy: 0.4900\n",
      "\n",
      "Epoch 00003: saving model to model_init2_2020-12-2811_48_09.796980/model-00003-0.90791-0.63499-1.80760-0.49000.h5\n",
      "Epoch 4/10\n",
      "11/11 [==============================] - 47s 4s/step - loss: 0.6750 - categorical_accuracy: 0.7109 - val_loss: 1.8953 - val_categorical_accuracy: 0.4100\n",
      "\n",
      "Epoch 00004: saving model to model_init2_2020-12-2811_48_09.796980/model-00004-0.65551-0.72398-1.89527-0.41000.h5\n",
      "Epoch 5/10\n",
      "11/11 [==============================] - 47s 4s/step - loss: 0.5974 - categorical_accuracy: 0.7776 - val_loss: 1.6013 - val_categorical_accuracy: 0.5500\n",
      "\n",
      "Epoch 00005: saving model to model_init2_2020-12-2811_48_09.796980/model-00005-0.59236-0.77979-1.60135-0.55000.h5\n",
      "Epoch 6/10\n",
      "11/11 [==============================] - 47s 4s/step - loss: 0.5508 - categorical_accuracy: 0.7915 - val_loss: 2.2776 - val_categorical_accuracy: 0.5300\n",
      "\n",
      "Epoch 00006: saving model to model_init2_2020-12-2811_48_09.796980/model-00006-0.52908-0.79940-2.27755-0.53000.h5\n",
      "Epoch 7/10\n",
      "11/11 [==============================] - 47s 4s/step - loss: 0.4170 - categorical_accuracy: 0.8551 - val_loss: 4.0918 - val_categorical_accuracy: 0.2500\n",
      "\n",
      "Epoch 00007: saving model to model_init2_2020-12-2811_48_09.796980/model-00007-0.41214-0.85671-4.09177-0.25000.h5\n",
      "Epoch 8/10\n",
      "11/11 [==============================] - 47s 4s/step - loss: 0.4064 - categorical_accuracy: 0.8506 - val_loss: 3.5969 - val_categorical_accuracy: 0.3600\n",
      "\n",
      "Epoch 00008: saving model to model_init2_2020-12-2811_48_09.796980/model-00008-0.41449-0.84465-3.59695-0.36000.h5\n",
      "Epoch 9/10\n",
      "11/11 [==============================] - 48s 4s/step - loss: 0.3016 - categorical_accuracy: 0.8929 - val_loss: 2.4534 - val_categorical_accuracy: 0.3900\n",
      "\n",
      "Epoch 00009: saving model to model_init2_2020-12-2811_48_09.796980/model-00009-0.31076-0.88688-2.45341-0.39000.h5\n",
      "Epoch 10/10\n",
      "11/11 [==============================] - 47s 4s/step - loss: 0.2446 - categorical_accuracy: 0.9188 - val_loss: 1.8525 - val_categorical_accuracy: 0.4900\n",
      "\n",
      "Epoch 00010: saving model to model_init2_2020-12-2811_48_09.796980/model-00010-0.24244-0.92157-1.85252-0.49000.h5\n",
      "\n",
      "Epoch 00010: ReduceLROnPlateau reducing learning rate to 1.0000000474974514e-05.\n"
     ]
    },
    {
     "data": {
      "text/plain": [
       "<keras.callbacks.History at 0x7faa504faba8>"
      ]
     },
     "execution_count": 18,
     "metadata": {},
     "output_type": "execute_result"
    }
   ],
   "source": [
    "num_epochs = 10\n",
    "model.fit_generator(train_generator, steps_per_epoch=steps_per_epoch, epochs=num_epochs, verbose=1, \n",
    "                    callbacks=callbacks_list, validation_data=val_generator, \n",
    "                    validation_steps=validation_steps, class_weight=None, workers=1, initial_epoch=0)"
   ]
  },
  {
   "cell_type": "markdown",
   "metadata": {},
   "source": [
    "#### Still Model is Overfitting. Lets add one more layer and increase dropout value"
   ]
  },
  {
   "cell_type": "code",
   "execution_count": 21,
   "metadata": {},
   "outputs": [],
   "source": [
    "model = Sequential()\n",
    "\n",
    "model.add(Conv3D(16, (3, 3, 3),padding='same' ,input_shape=(20,120,120,3)))\n",
    "model.add(Activation('relu'))\n",
    "model.add(BatchNormalization())\n",
    "model.add(MaxPooling3D(pool_size=(2, 2, 2)))\n",
    "model.add(Dropout(0.5))\n",
    "\n",
    "model.add(Conv3D(32, (3, 3, 3),padding='same'))\n",
    "model.add(Activation('relu'))\n",
    "model.add(BatchNormalization())\n",
    "model.add(MaxPooling3D(pool_size=(2, 2, 2)))\n",
    "model.add(Dropout(0.5))\n",
    "\n",
    "model.add(Conv3D(64, (3, 3, 3),padding='same'))\n",
    "model.add(Activation('relu'))\n",
    "model.add(BatchNormalization())\n",
    "model.add(MaxPooling3D(pool_size=(2, 2, 2)))\n",
    "model.add(Dropout(0.5))\n",
    "\n",
    "model.add(Conv3D(128, (3, 3, 3),padding='same'))\n",
    "model.add(Activation('relu'))\n",
    "model.add(BatchNormalization())\n",
    "model.add(MaxPooling3D(pool_size=(2, 2, 2)))\n",
    "model.add(Dropout(0.5))\n",
    "\n",
    "\n",
    "\n",
    "model.add(Flatten())\n",
    "model.add(Dense(256,activation='relu'))\n",
    "model.add(BatchNormalization())\n",
    "model.add(Dropout(0.5))\n",
    "\n",
    "model.add(Dense(5,activation='softmax'))"
   ]
  },
  {
   "cell_type": "code",
   "execution_count": 22,
   "metadata": {},
   "outputs": [
    {
     "name": "stdout",
     "output_type": "stream",
     "text": [
      "_________________________________________________________________\n",
      "Layer (type)                 Output Shape              Param #   \n",
      "=================================================================\n",
      "conv3d_19 (Conv3D)           (None, 20, 120, 120, 16)  1312      \n",
      "_________________________________________________________________\n",
      "activation_19 (Activation)   (None, 20, 120, 120, 16)  0         \n",
      "_________________________________________________________________\n",
      "batch_normalization_21 (Batc (None, 20, 120, 120, 16)  64        \n",
      "_________________________________________________________________\n",
      "max_pooling3d_19 (MaxPooling (None, 10, 60, 60, 16)    0         \n",
      "_________________________________________________________________\n",
      "dropout_14 (Dropout)         (None, 10, 60, 60, 16)    0         \n",
      "_________________________________________________________________\n",
      "conv3d_20 (Conv3D)           (None, 10, 60, 60, 32)    13856     \n",
      "_________________________________________________________________\n",
      "activation_20 (Activation)   (None, 10, 60, 60, 32)    0         \n",
      "_________________________________________________________________\n",
      "batch_normalization_22 (Batc (None, 10, 60, 60, 32)    128       \n",
      "_________________________________________________________________\n",
      "max_pooling3d_20 (MaxPooling (None, 5, 30, 30, 32)     0         \n",
      "_________________________________________________________________\n",
      "dropout_15 (Dropout)         (None, 5, 30, 30, 32)     0         \n",
      "_________________________________________________________________\n",
      "conv3d_21 (Conv3D)           (None, 5, 30, 30, 64)     55360     \n",
      "_________________________________________________________________\n",
      "activation_21 (Activation)   (None, 5, 30, 30, 64)     0         \n",
      "_________________________________________________________________\n",
      "batch_normalization_23 (Batc (None, 5, 30, 30, 64)     256       \n",
      "_________________________________________________________________\n",
      "max_pooling3d_21 (MaxPooling (None, 2, 15, 15, 64)     0         \n",
      "_________________________________________________________________\n",
      "dropout_16 (Dropout)         (None, 2, 15, 15, 64)     0         \n",
      "_________________________________________________________________\n",
      "conv3d_22 (Conv3D)           (None, 2, 15, 15, 128)    221312    \n",
      "_________________________________________________________________\n",
      "activation_22 (Activation)   (None, 2, 15, 15, 128)    0         \n",
      "_________________________________________________________________\n",
      "batch_normalization_24 (Batc (None, 2, 15, 15, 128)    512       \n",
      "_________________________________________________________________\n",
      "max_pooling3d_22 (MaxPooling (None, 1, 7, 7, 128)      0         \n",
      "_________________________________________________________________\n",
      "dropout_17 (Dropout)         (None, 1, 7, 7, 128)      0         \n",
      "_________________________________________________________________\n",
      "flatten_3 (Flatten)          (None, 6272)              0         \n",
      "_________________________________________________________________\n",
      "dense_5 (Dense)              (None, 256)               1605888   \n",
      "_________________________________________________________________\n",
      "batch_normalization_25 (Batc (None, 256)               1024      \n",
      "_________________________________________________________________\n",
      "dropout_18 (Dropout)         (None, 256)               0         \n",
      "_________________________________________________________________\n",
      "dense_6 (Dense)              (None, 5)                 1285      \n",
      "=================================================================\n",
      "Total params: 1,900,997\n",
      "Trainable params: 1,900,005\n",
      "Non-trainable params: 992\n",
      "_________________________________________________________________\n",
      "None\n"
     ]
    }
   ],
   "source": [
    "optimiser =Adam(0.001) #write your optimizer\n",
    "model.compile(optimizer=optimiser, loss='categorical_crossentropy', metrics=['categorical_accuracy'])\n",
    "print (model.summary())"
   ]
  },
  {
   "cell_type": "code",
   "execution_count": 23,
   "metadata": {},
   "outputs": [],
   "source": [
    "model_name = 'model_init3' + '_' + str(curr_dt_time).replace(' ','').replace(':','_') + '/'\n",
    "    \n",
    "if not os.path.exists(model_name):\n",
    "    os.mkdir(model_name)\n",
    "        \n",
    "filepath = model_name + 'model-{epoch:05d}-{loss:.5f}-{categorical_accuracy:.5f}-{val_loss:.5f}-{val_categorical_accuracy:.5f}.h5'\n",
    "\n",
    "checkpoint = ModelCheckpoint(filepath, monitor='val_loss', verbose=1, save_best_only=False, save_weights_only=False, mode='auto', period=1)\n",
    "\n",
    "LR = ReduceLROnPlateau(monitor='val_loss', factor=0.01, patience=5, cooldown=4, verbose=1,mode='auto',epsilon=0.0001) # write the REducelronplateau code here\n",
    "callbacks_list = [checkpoint, LR]"
   ]
  },
  {
   "cell_type": "code",
   "execution_count": 24,
   "metadata": {},
   "outputs": [
    {
     "name": "stdout",
     "output_type": "stream",
     "text": [
      "Epoch 1/10\n",
      "11/11 [==============================] - 59s 5s/step - loss: 2.1032 - categorical_accuracy: 0.3138 - val_loss: 6.9435 - val_categorical_accuracy: 0.2200\n",
      "\n",
      "Epoch 00001: saving model to model_init3_2020-12-2811_48_09.796980/model-00001-2.11251-0.31674-6.94345-0.22000.h5\n",
      "Epoch 2/10\n",
      "11/11 [==============================] - 47s 4s/step - loss: 1.6009 - categorical_accuracy: 0.4490 - val_loss: 6.0910 - val_categorical_accuracy: 0.1800\n",
      "\n",
      "Epoch 00002: saving model to model_init3_2020-12-2811_48_09.796980/model-00002-1.60214-0.44495-6.09096-0.18000.h5\n",
      "Epoch 3/10\n",
      "11/11 [==============================] - 48s 4s/step - loss: 1.3515 - categorical_accuracy: 0.4772 - val_loss: 6.4275 - val_categorical_accuracy: 0.2000\n",
      "\n",
      "Epoch 00003: saving model to model_init3_2020-12-2811_48_09.796980/model-00003-1.33572-0.47964-6.42754-0.20000.h5\n",
      "Epoch 4/10\n",
      "11/11 [==============================] - 46s 4s/step - loss: 1.2165 - categorical_accuracy: 0.5229 - val_loss: 6.6236 - val_categorical_accuracy: 0.2300\n",
      "\n",
      "Epoch 00004: saving model to model_init3_2020-12-2811_48_09.796980/model-00004-1.20564-0.52790-6.62359-0.23000.h5\n",
      "Epoch 5/10\n",
      "11/11 [==============================] - 46s 4s/step - loss: 1.0780 - categorical_accuracy: 0.5667 - val_loss: 7.5723 - val_categorical_accuracy: 0.2200\n",
      "\n",
      "Epoch 00005: saving model to model_init3_2020-12-2811_48_09.796980/model-00005-1.07327-0.57164-7.57229-0.22000.h5\n",
      "Epoch 6/10\n",
      "11/11 [==============================] - 47s 4s/step - loss: 1.0320 - categorical_accuracy: 0.6009 - val_loss: 9.2283 - val_categorical_accuracy: 0.1700\n",
      "\n",
      "Epoch 00006: saving model to model_init3_2020-12-2811_48_09.796980/model-00006-1.03127-0.60784-9.22834-0.17000.h5\n",
      "Epoch 7/10\n",
      "11/11 [==============================] - 46s 4s/step - loss: 0.8589 - categorical_accuracy: 0.6559 - val_loss: 6.5165 - val_categorical_accuracy: 0.2900\n",
      "\n",
      "Epoch 00007: saving model to model_init3_2020-12-2811_48_09.796980/model-00007-0.85637-0.65611-6.51655-0.29000.h5\n",
      "\n",
      "Epoch 00007: ReduceLROnPlateau reducing learning rate to 1.0000000474974514e-05.\n",
      "Epoch 8/10\n",
      "11/11 [==============================] - 46s 4s/step - loss: 0.8583 - categorical_accuracy: 0.6470 - val_loss: 8.3433 - val_categorical_accuracy: 0.2100\n",
      "\n",
      "Epoch 00008: saving model to model_init3_2020-12-2811_48_09.796980/model-00008-0.86165-0.65158-8.34325-0.21000.h5\n",
      "Epoch 9/10\n",
      "11/11 [==============================] - 45s 4s/step - loss: 0.8747 - categorical_accuracy: 0.6689 - val_loss: 8.3136 - val_categorical_accuracy: 0.2100\n",
      "\n",
      "Epoch 00009: saving model to model_init3_2020-12-2811_48_09.796980/model-00009-0.85083-0.67722-8.31363-0.21000.h5\n",
      "Epoch 10/10\n",
      "11/11 [==============================] - 43s 4s/step - loss: 0.8142 - categorical_accuracy: 0.6834 - val_loss: 8.4106 - val_categorical_accuracy: 0.2200\n",
      "\n",
      "Epoch 00010: saving model to model_init3_2020-12-2811_48_09.796980/model-00010-0.82151-0.68024-8.41060-0.22000.h5\n"
     ]
    },
    {
     "data": {
      "text/plain": [
       "<keras.callbacks.History at 0x7faacec55e10>"
      ]
     },
     "execution_count": 24,
     "metadata": {},
     "output_type": "execute_result"
    }
   ],
   "source": [
    "num_epochs = 10\n",
    "model.fit_generator(train_generator, steps_per_epoch=steps_per_epoch, epochs=num_epochs, verbose=1, \n",
    "                    callbacks=callbacks_list, validation_data=val_generator, \n",
    "                    validation_steps=validation_steps, class_weight=None, workers=1, initial_epoch=0)"
   ]
  },
  {
   "cell_type": "markdown",
   "metadata": {},
   "source": [
    "#### No Improvement in the model. Lets try different Architecture"
   ]
  },
  {
   "cell_type": "markdown",
   "metadata": {},
   "source": [
    "### CNN - LSTM"
   ]
  },
  {
   "cell_type": "code",
   "execution_count": 25,
   "metadata": {},
   "outputs": [],
   "source": [
    "model = Sequential()\n",
    "\n",
    "model.add(TimeDistributed(Conv2D(16, (3, 3) , padding='same', activation='relu'),input_shape=(20,120,120,3)))\n",
    "model.add(TimeDistributed(BatchNormalization()))\n",
    "model.add(TimeDistributed(MaxPooling2D((2, 2))))\n",
    "        \n",
    "model.add(TimeDistributed(Conv2D(32, (3, 3) , padding='same', activation='relu')))\n",
    "model.add(TimeDistributed(BatchNormalization()))\n",
    "model.add(TimeDistributed(MaxPooling2D((2, 2))))\n",
    "        \n",
    "model.add(TimeDistributed(Conv2D(64, (3, 3) , padding='same', activation='relu')))\n",
    "model.add(TimeDistributed(BatchNormalization()))\n",
    "model.add(TimeDistributed(MaxPooling2D((2, 2))))\n",
    "        \n",
    "model.add(TimeDistributed(Conv2D(128, (3, 3) , padding='same', activation='relu')))\n",
    "model.add(TimeDistributed(BatchNormalization()))\n",
    "model.add(TimeDistributed(MaxPooling2D((2, 2))))\n",
    "\n",
    "\n",
    "model.add(TimeDistributed(Flatten()))\n",
    "\n",
    "\n",
    "model.add(LSTM(128))\n",
    "model.add(Dropout(0.5))\n",
    "        \n",
    "model.add(Dense(128,activation='relu'))\n",
    "model.add(Dropout(0.5))\n",
    "        \n",
    "model.add(Dense(5, activation='softmax'))"
   ]
  },
  {
   "cell_type": "code",
   "execution_count": 26,
   "metadata": {},
   "outputs": [
    {
     "name": "stdout",
     "output_type": "stream",
     "text": [
      "_________________________________________________________________\n",
      "Layer (type)                 Output Shape              Param #   \n",
      "=================================================================\n",
      "time_distributed_1 (TimeDist (None, 20, 120, 120, 16)  448       \n",
      "_________________________________________________________________\n",
      "time_distributed_2 (TimeDist (None, 20, 120, 120, 16)  64        \n",
      "_________________________________________________________________\n",
      "time_distributed_3 (TimeDist (None, 20, 60, 60, 16)    0         \n",
      "_________________________________________________________________\n",
      "time_distributed_4 (TimeDist (None, 20, 60, 60, 32)    4640      \n",
      "_________________________________________________________________\n",
      "time_distributed_5 (TimeDist (None, 20, 60, 60, 32)    128       \n",
      "_________________________________________________________________\n",
      "time_distributed_6 (TimeDist (None, 20, 30, 30, 32)    0         \n",
      "_________________________________________________________________\n",
      "time_distributed_7 (TimeDist (None, 20, 30, 30, 64)    18496     \n",
      "_________________________________________________________________\n",
      "time_distributed_8 (TimeDist (None, 20, 30, 30, 64)    256       \n",
      "_________________________________________________________________\n",
      "time_distributed_9 (TimeDist (None, 20, 15, 15, 64)    0         \n",
      "_________________________________________________________________\n",
      "time_distributed_10 (TimeDis (None, 20, 15, 15, 128)   73856     \n",
      "_________________________________________________________________\n",
      "time_distributed_11 (TimeDis (None, 20, 15, 15, 128)   512       \n",
      "_________________________________________________________________\n",
      "time_distributed_12 (TimeDis (None, 20, 7, 7, 128)     0         \n",
      "_________________________________________________________________\n",
      "time_distributed_13 (TimeDis (None, 20, 6272)          0         \n",
      "_________________________________________________________________\n",
      "lstm_1 (LSTM)                (None, 128)               3277312   \n",
      "_________________________________________________________________\n",
      "dropout_19 (Dropout)         (None, 128)               0         \n",
      "_________________________________________________________________\n",
      "dense_7 (Dense)              (None, 128)               16512     \n",
      "_________________________________________________________________\n",
      "dropout_20 (Dropout)         (None, 128)               0         \n",
      "_________________________________________________________________\n",
      "dense_8 (Dense)              (None, 5)                 645       \n",
      "=================================================================\n",
      "Total params: 3,392,869\n",
      "Trainable params: 3,392,389\n",
      "Non-trainable params: 480\n",
      "_________________________________________________________________\n",
      "None\n"
     ]
    }
   ],
   "source": [
    "optimiser =Adam(0.001) #write your optimizer\n",
    "model.compile(optimizer=optimiser, loss='categorical_crossentropy', metrics=['categorical_accuracy'])\n",
    "print (model.summary())"
   ]
  },
  {
   "cell_type": "code",
   "execution_count": 27,
   "metadata": {},
   "outputs": [],
   "source": [
    "train_generator = generator(train_path, train_doc, batch_size)\n",
    "val_generator = generator(val_path, val_doc, batch_size)"
   ]
  },
  {
   "cell_type": "code",
   "execution_count": 28,
   "metadata": {},
   "outputs": [],
   "source": [
    "model_name = 'model_init4' + '_' + str(curr_dt_time).replace(' ','').replace(':','_') + '/'\n",
    "    \n",
    "if not os.path.exists(model_name):\n",
    "    os.mkdir(model_name)\n",
    "        \n",
    "filepath = model_name + 'model-{epoch:05d}-{loss:.5f}-{categorical_accuracy:.5f}-{val_loss:.5f}-{val_categorical_accuracy:.5f}.h5'\n",
    "\n",
    "checkpoint = ModelCheckpoint(filepath, monitor='val_loss', verbose=1, save_best_only=False, save_weights_only=False, mode='auto', period=1)\n",
    "\n",
    "LR = ReduceLROnPlateau(monitor='val_loss', factor=0.01, patience=5, cooldown=4, verbose=1,mode='auto',epsilon=0.0001) # write the REducelronplateau code here\n",
    "callbacks_list = [checkpoint, LR]"
   ]
  },
  {
   "cell_type": "code",
   "execution_count": 29,
   "metadata": {},
   "outputs": [
    {
     "name": "stdout",
     "output_type": "stream",
     "text": [
      "Source path =  ./Project_data/val ; batch size = 64\n",
      "Source path =  ./Project_data/train ; batch size = 64\n",
      "Epoch 1/10\n",
      "11/11 [==============================] - 60s 5s/step - loss: 1.6735 - categorical_accuracy: 0.2802 - val_loss: 1.5284 - val_categorical_accuracy: 0.3500\n",
      "\n",
      "Epoch 00001: saving model to model_init4_2020-12-2811_48_09.796980/model-00001-1.67385-0.27149-1.52838-0.35000.h5\n",
      "Epoch 2/10\n",
      "11/11 [==============================] - 42s 4s/step - loss: 1.5462 - categorical_accuracy: 0.3173 - val_loss: 1.4229 - val_categorical_accuracy: 0.4800\n",
      "\n",
      "Epoch 00002: saving model to model_init4_2020-12-2811_48_09.796980/model-00002-1.55772-0.31071-1.42295-0.48000.h5\n",
      "Epoch 3/10\n",
      "11/11 [==============================] - 45s 4s/step - loss: 1.4428 - categorical_accuracy: 0.3534 - val_loss: 1.3189 - val_categorical_accuracy: 0.5300\n",
      "\n",
      "Epoch 00003: saving model to model_init4_2020-12-2811_48_09.796980/model-00003-1.45073-0.34389-1.31887-0.53000.h5\n",
      "Epoch 4/10\n",
      "11/11 [==============================] - 45s 4s/step - loss: 1.3041 - categorical_accuracy: 0.4414 - val_loss: 1.2335 - val_categorical_accuracy: 0.5400\n",
      "\n",
      "Epoch 00004: saving model to model_init4_2020-12-2811_48_09.796980/model-00004-1.31243-0.43439-1.23348-0.54000.h5\n",
      "Epoch 5/10\n",
      "11/11 [==============================] - 44s 4s/step - loss: 1.2503 - categorical_accuracy: 0.4790 - val_loss: 1.2886 - val_categorical_accuracy: 0.5200\n",
      "\n",
      "Epoch 00005: saving model to model_init4_2020-12-2811_48_09.796980/model-00005-1.24850-0.47662-1.28859-0.52000.h5\n",
      "Epoch 6/10\n",
      "11/11 [==============================] - 45s 4s/step - loss: 1.1585 - categorical_accuracy: 0.5208 - val_loss: 1.2455 - val_categorical_accuracy: 0.4900\n",
      "\n",
      "Epoch 00006: saving model to model_init4_2020-12-2811_48_09.796980/model-00006-1.16120-0.51584-1.24550-0.49000.h5\n",
      "Epoch 7/10\n",
      "11/11 [==============================] - 45s 4s/step - loss: 1.1213 - categorical_accuracy: 0.5518 - val_loss: 1.2747 - val_categorical_accuracy: 0.4700\n",
      "\n",
      "Epoch 00007: saving model to model_init4_2020-12-2811_48_09.796980/model-00007-1.12693-0.55354-1.27471-0.47000.h5\n",
      "Epoch 8/10\n",
      "11/11 [==============================] - 45s 4s/step - loss: 1.0656 - categorical_accuracy: 0.5422 - val_loss: 0.9986 - val_categorical_accuracy: 0.6400\n",
      "\n",
      "Epoch 00008: saving model to model_init4_2020-12-2811_48_09.796980/model-00008-1.07175-0.53846-0.99862-0.64000.h5\n",
      "Epoch 9/10\n",
      "11/11 [==============================] - 45s 4s/step - loss: 0.9889 - categorical_accuracy: 0.5838 - val_loss: 1.0337 - val_categorical_accuracy: 0.6200\n",
      "\n",
      "Epoch 00009: saving model to model_init4_2020-12-2811_48_09.796980/model-00009-0.96565-0.58974-1.03371-0.62000.h5\n",
      "Epoch 10/10\n",
      "11/11 [==============================] - 45s 4s/step - loss: 0.9673 - categorical_accuracy: 0.6222 - val_loss: 1.0106 - val_categorical_accuracy: 0.6600\n",
      "\n",
      "Epoch 00010: saving model to model_init4_2020-12-2811_48_09.796980/model-00010-0.96711-0.62293-1.01064-0.66000.h5\n"
     ]
    },
    {
     "data": {
      "text/plain": [
       "<keras.callbacks.History at 0x7faacca938d0>"
      ]
     },
     "execution_count": 29,
     "metadata": {},
     "output_type": "execute_result"
    }
   ],
   "source": [
    "num_epochs = 10\n",
    "model.fit_generator(train_generator, steps_per_epoch=steps_per_epoch, epochs=num_epochs, verbose=1, \n",
    "                    callbacks=callbacks_list, validation_data=val_generator, \n",
    "                    validation_steps=validation_steps, class_weight=None, workers=1, initial_epoch=0)"
   ]
  },
  {
   "cell_type": "markdown",
   "metadata": {},
   "source": [
    "#### Now, Model is not overfitted, but got only 66% validation accuracy. Lets increase the no. of layers and epoch"
   ]
  },
  {
   "cell_type": "code",
   "execution_count": 30,
   "metadata": {},
   "outputs": [],
   "source": [
    "model = Sequential()\n",
    "\n",
    "model.add(TimeDistributed(Conv2D(16, (3, 3) , padding='same', activation='relu'),input_shape=(20,120,120,3)))\n",
    "model.add(TimeDistributed(BatchNormalization()))\n",
    "model.add(TimeDistributed(MaxPooling2D((2, 2))))\n",
    "        \n",
    "model.add(TimeDistributed(Conv2D(32, (3, 3) , padding='same', activation='relu')))\n",
    "model.add(TimeDistributed(BatchNormalization()))\n",
    "model.add(TimeDistributed(MaxPooling2D((2, 2))))\n",
    "        \n",
    "model.add(TimeDistributed(Conv2D(64, (3, 3) , padding='same', activation='relu')))\n",
    "model.add(TimeDistributed(BatchNormalization()))\n",
    "model.add(TimeDistributed(MaxPooling2D((2, 2))))\n",
    "        \n",
    "model.add(TimeDistributed(Conv2D(128, (3, 3) , padding='same', activation='relu')))\n",
    "model.add(TimeDistributed(BatchNormalization()))\n",
    "model.add(TimeDistributed(MaxPooling2D((2, 2))))\n",
    "\n",
    "model.add(TimeDistributed(Conv2D(256, (3, 3) , padding='same', activation='relu')))\n",
    "model.add(TimeDistributed(BatchNormalization()))\n",
    "model.add(TimeDistributed(MaxPooling2D((2, 2))))\n",
    "\n",
    "\n",
    "model.add(TimeDistributed(Flatten()))\n",
    "\n",
    "\n",
    "model.add(LSTM(128))\n",
    "model.add(Dropout(0.5))\n",
    "        \n",
    "model.add(Dense(128,activation='relu'))\n",
    "model.add(Dropout(0.5))\n",
    "        \n",
    "model.add(Dense(5, activation='softmax'))"
   ]
  },
  {
   "cell_type": "code",
   "execution_count": 31,
   "metadata": {},
   "outputs": [
    {
     "name": "stdout",
     "output_type": "stream",
     "text": [
      "_________________________________________________________________\n",
      "Layer (type)                 Output Shape              Param #   \n",
      "=================================================================\n",
      "time_distributed_14 (TimeDis (None, 20, 120, 120, 16)  448       \n",
      "_________________________________________________________________\n",
      "time_distributed_15 (TimeDis (None, 20, 120, 120, 16)  64        \n",
      "_________________________________________________________________\n",
      "time_distributed_16 (TimeDis (None, 20, 60, 60, 16)    0         \n",
      "_________________________________________________________________\n",
      "time_distributed_17 (TimeDis (None, 20, 60, 60, 32)    4640      \n",
      "_________________________________________________________________\n",
      "time_distributed_18 (TimeDis (None, 20, 60, 60, 32)    128       \n",
      "_________________________________________________________________\n",
      "time_distributed_19 (TimeDis (None, 20, 30, 30, 32)    0         \n",
      "_________________________________________________________________\n",
      "time_distributed_20 (TimeDis (None, 20, 30, 30, 64)    18496     \n",
      "_________________________________________________________________\n",
      "time_distributed_21 (TimeDis (None, 20, 30, 30, 64)    256       \n",
      "_________________________________________________________________\n",
      "time_distributed_22 (TimeDis (None, 20, 15, 15, 64)    0         \n",
      "_________________________________________________________________\n",
      "time_distributed_23 (TimeDis (None, 20, 15, 15, 128)   73856     \n",
      "_________________________________________________________________\n",
      "time_distributed_24 (TimeDis (None, 20, 15, 15, 128)   512       \n",
      "_________________________________________________________________\n",
      "time_distributed_25 (TimeDis (None, 20, 7, 7, 128)     0         \n",
      "_________________________________________________________________\n",
      "time_distributed_26 (TimeDis (None, 20, 7, 7, 256)     295168    \n",
      "_________________________________________________________________\n",
      "time_distributed_27 (TimeDis (None, 20, 7, 7, 256)     1024      \n",
      "_________________________________________________________________\n",
      "time_distributed_28 (TimeDis (None, 20, 3, 3, 256)     0         \n",
      "_________________________________________________________________\n",
      "time_distributed_29 (TimeDis (None, 20, 2304)          0         \n",
      "_________________________________________________________________\n",
      "lstm_2 (LSTM)                (None, 128)               1245696   \n",
      "_________________________________________________________________\n",
      "dropout_21 (Dropout)         (None, 128)               0         \n",
      "_________________________________________________________________\n",
      "dense_9 (Dense)              (None, 128)               16512     \n",
      "_________________________________________________________________\n",
      "dropout_22 (Dropout)         (None, 128)               0         \n",
      "_________________________________________________________________\n",
      "dense_10 (Dense)             (None, 5)                 645       \n",
      "=================================================================\n",
      "Total params: 1,657,445\n",
      "Trainable params: 1,656,453\n",
      "Non-trainable params: 992\n",
      "_________________________________________________________________\n",
      "None\n"
     ]
    }
   ],
   "source": [
    "optimiser =Adam(0.001) #write your optimizer\n",
    "model.compile(optimizer=optimiser, loss='categorical_crossentropy', metrics=['categorical_accuracy'])\n",
    "print (model.summary())"
   ]
  },
  {
   "cell_type": "code",
   "execution_count": 32,
   "metadata": {},
   "outputs": [],
   "source": [
    "train_generator = generator(train_path, train_doc, batch_size)\n",
    "val_generator = generator(val_path, val_doc, batch_size)"
   ]
  },
  {
   "cell_type": "code",
   "execution_count": 33,
   "metadata": {},
   "outputs": [],
   "source": [
    "model_name = 'model_init5' + '_' + str(curr_dt_time).replace(' ','').replace(':','_') + '/'\n",
    "    \n",
    "if not os.path.exists(model_name):\n",
    "    os.mkdir(model_name)\n",
    "        \n",
    "filepath = model_name + 'model-{epoch:05d}-{loss:.5f}-{categorical_accuracy:.5f}-{val_loss:.5f}-{val_categorical_accuracy:.5f}.h5'\n",
    "\n",
    "checkpoint = ModelCheckpoint(filepath, monitor='val_loss', verbose=1, save_best_only=False, save_weights_only=False, mode='auto', period=1)\n",
    "\n",
    "LR = ReduceLROnPlateau(monitor='val_loss', factor=0.01, patience=5, cooldown=4, verbose=1,mode='auto',epsilon=0.0001) # write the REducelronplateau code here\n",
    "callbacks_list = [checkpoint, LR]"
   ]
  },
  {
   "cell_type": "code",
   "execution_count": 34,
   "metadata": {},
   "outputs": [
    {
     "name": "stdout",
     "output_type": "stream",
     "text": [
      "Source path =  ./Project_data/val ; batch size = 64\n",
      "Source path =  ./Project_data/train ; batch size = 64\n",
      "Epoch 1/15\n",
      "11/11 [==============================] - 59s 5s/step - loss: 1.6927 - categorical_accuracy: 0.2272 - val_loss: 1.5402 - val_categorical_accuracy: 0.2900\n",
      "\n",
      "Epoch 00001: saving model to model_init5_2020-12-2811_48_09.796980/model-00001-1.68527-0.22775-1.54018-0.29000.h5\n",
      "Epoch 2/15\n",
      "11/11 [==============================] - 43s 4s/step - loss: 1.4808 - categorical_accuracy: 0.3487 - val_loss: 1.4166 - val_categorical_accuracy: 0.4000\n",
      "\n",
      "Epoch 00002: saving model to model_init5_2020-12-2811_48_09.796980/model-00002-1.49004-0.34389-1.41665-0.40000.h5\n",
      "Epoch 3/15\n",
      "11/11 [==============================] - 45s 4s/step - loss: 1.3809 - categorical_accuracy: 0.4125 - val_loss: 1.3879 - val_categorical_accuracy: 0.4100\n",
      "\n",
      "Epoch 00003: saving model to model_init5_2020-12-2811_48_09.796980/model-00003-1.38949-0.40875-1.38790-0.41000.h5\n",
      "Epoch 4/15\n",
      "11/11 [==============================] - 45s 4s/step - loss: 1.2764 - categorical_accuracy: 0.4658 - val_loss: 1.2497 - val_categorical_accuracy: 0.5000\n",
      "\n",
      "Epoch 00004: saving model to model_init5_2020-12-2811_48_09.796980/model-00004-1.27008-0.46757-1.24972-0.50000.h5\n",
      "Epoch 5/15\n",
      "11/11 [==============================] - 45s 4s/step - loss: 1.1912 - categorical_accuracy: 0.4910 - val_loss: 1.1034 - val_categorical_accuracy: 0.5900\n",
      "\n",
      "Epoch 00005: saving model to model_init5_2020-12-2811_48_09.796980/model-00005-1.19111-0.49170-1.10340-0.59000.h5\n",
      "Epoch 6/15\n",
      "11/11 [==============================] - 44s 4s/step - loss: 1.1116 - categorical_accuracy: 0.5522 - val_loss: 1.0267 - val_categorical_accuracy: 0.5500\n",
      "\n",
      "Epoch 00006: saving model to model_init5_2020-12-2811_48_09.796980/model-00006-1.11304-0.54902-1.02672-0.55000.h5\n",
      "Epoch 7/15\n",
      "11/11 [==============================] - 44s 4s/step - loss: 1.0256 - categorical_accuracy: 0.5874 - val_loss: 1.1141 - val_categorical_accuracy: 0.5200\n",
      "\n",
      "Epoch 00007: saving model to model_init5_2020-12-2811_48_09.796980/model-00007-1.02977-0.58371-1.11406-0.52000.h5\n",
      "Epoch 8/15\n",
      "11/11 [==============================] - 44s 4s/step - loss: 0.9518 - categorical_accuracy: 0.6275 - val_loss: 1.1767 - val_categorical_accuracy: 0.4900\n",
      "\n",
      "Epoch 00008: saving model to model_init5_2020-12-2811_48_09.796980/model-00008-0.95477-0.63348-1.17668-0.49000.h5\n",
      "Epoch 9/15\n",
      "11/11 [==============================] - 44s 4s/step - loss: 0.9993 - categorical_accuracy: 0.5918 - val_loss: 1.1663 - val_categorical_accuracy: 0.4400\n",
      "\n",
      "Epoch 00009: saving model to model_init5_2020-12-2811_48_09.796980/model-00009-0.97430-0.59578-1.16630-0.44000.h5\n",
      "Epoch 10/15\n",
      "11/11 [==============================] - 45s 4s/step - loss: 0.8930 - categorical_accuracy: 0.6313 - val_loss: 1.0159 - val_categorical_accuracy: 0.6000\n",
      "\n",
      "Epoch 00010: saving model to model_init5_2020-12-2811_48_09.796980/model-00010-0.88412-0.63499-1.01595-0.60000.h5\n",
      "Epoch 11/15\n",
      "11/11 [==============================] - 44s 4s/step - loss: 0.8946 - categorical_accuracy: 0.6480 - val_loss: 1.0375 - val_categorical_accuracy: 0.5500\n",
      "\n",
      "Epoch 00011: saving model to model_init5_2020-12-2811_48_09.796980/model-00011-0.90063-0.63801-1.03753-0.55000.h5\n",
      "Epoch 12/15\n",
      "11/11 [==============================] - 44s 4s/step - loss: 0.8246 - categorical_accuracy: 0.6736 - val_loss: 1.2904 - val_categorical_accuracy: 0.5100\n",
      "\n",
      "Epoch 00012: saving model to model_init5_2020-12-2811_48_09.796980/model-00012-0.83071-0.67722-1.29039-0.51000.h5\n",
      "Epoch 13/15\n",
      "11/11 [==============================] - 43s 4s/step - loss: 0.7553 - categorical_accuracy: 0.6816 - val_loss: 0.9643 - val_categorical_accuracy: 0.6100\n",
      "\n",
      "Epoch 00013: saving model to model_init5_2020-12-2811_48_09.796980/model-00013-0.75681-0.68326-0.96433-0.61000.h5\n",
      "Epoch 14/15\n",
      "11/11 [==============================] - 44s 4s/step - loss: 0.6973 - categorical_accuracy: 0.7434 - val_loss: 1.0399 - val_categorical_accuracy: 0.6000\n",
      "\n",
      "Epoch 00014: saving model to model_init5_2020-12-2811_48_09.796980/model-00014-0.69029-0.74359-1.03989-0.60000.h5\n",
      "Epoch 15/15\n",
      "11/11 [==============================] - 44s 4s/step - loss: 0.6224 - categorical_accuracy: 0.7537 - val_loss: 0.9672 - val_categorical_accuracy: 0.6800\n",
      "\n",
      "Epoch 00015: saving model to model_init5_2020-12-2811_48_09.796980/model-00015-0.63216-0.74962-0.96718-0.68000.h5\n"
     ]
    },
    {
     "data": {
      "text/plain": [
       "<keras.callbacks.History at 0x7faacc76f470>"
      ]
     },
     "execution_count": 34,
     "metadata": {},
     "output_type": "execute_result"
    }
   ],
   "source": [
    "num_epochs = 15\n",
    "model.fit_generator(train_generator, steps_per_epoch=steps_per_epoch, epochs=num_epochs, verbose=1, \n",
    "                    callbacks=callbacks_list, validation_data=val_generator, \n",
    "                    validation_steps=validation_steps, class_weight=None, workers=1, initial_epoch=0)"
   ]
  },
  {
   "cell_type": "markdown",
   "metadata": {},
   "source": [
    "#### Cool, Now we got 68% validation accuracy after increase the layer. But now lets try CNN - GRU"
   ]
  },
  {
   "cell_type": "markdown",
   "metadata": {},
   "source": [
    "### CNN - GRU"
   ]
  },
  {
   "cell_type": "code",
   "execution_count": 35,
   "metadata": {},
   "outputs": [
    {
     "name": "stdout",
     "output_type": "stream",
     "text": [
      "_________________________________________________________________\n",
      "Layer (type)                 Output Shape              Param #   \n",
      "=================================================================\n",
      "time_distributed_30 (TimeDis (None, 20, 120, 120, 16)  448       \n",
      "_________________________________________________________________\n",
      "time_distributed_31 (TimeDis (None, 20, 120, 120, 16)  64        \n",
      "_________________________________________________________________\n",
      "time_distributed_32 (TimeDis (None, 20, 60, 60, 16)    0         \n",
      "_________________________________________________________________\n",
      "time_distributed_33 (TimeDis (None, 20, 60, 60, 32)    4640      \n",
      "_________________________________________________________________\n",
      "time_distributed_34 (TimeDis (None, 20, 60, 60, 32)    128       \n",
      "_________________________________________________________________\n",
      "time_distributed_35 (TimeDis (None, 20, 30, 30, 32)    0         \n",
      "_________________________________________________________________\n",
      "time_distributed_36 (TimeDis (None, 20, 30, 30, 64)    18496     \n",
      "_________________________________________________________________\n",
      "time_distributed_37 (TimeDis (None, 20, 30, 30, 64)    256       \n",
      "_________________________________________________________________\n",
      "time_distributed_38 (TimeDis (None, 20, 15, 15, 64)    0         \n",
      "_________________________________________________________________\n",
      "time_distributed_39 (TimeDis (None, 20, 15, 15, 128)   73856     \n",
      "_________________________________________________________________\n",
      "time_distributed_40 (TimeDis (None, 20, 15, 15, 128)   512       \n",
      "_________________________________________________________________\n",
      "time_distributed_41 (TimeDis (None, 20, 7, 7, 128)     0         \n",
      "_________________________________________________________________\n",
      "time_distributed_42 (TimeDis (None, 20, 6272)          0         \n",
      "_________________________________________________________________\n",
      "gru_1 (GRU)                  (None, 128)               2457984   \n",
      "_________________________________________________________________\n",
      "dropout_23 (Dropout)         (None, 128)               0         \n",
      "_________________________________________________________________\n",
      "dense_11 (Dense)             (None, 128)               16512     \n",
      "_________________________________________________________________\n",
      "dropout_24 (Dropout)         (None, 128)               0         \n",
      "_________________________________________________________________\n",
      "dense_12 (Dense)             (None, 5)                 645       \n",
      "=================================================================\n",
      "Total params: 2,573,541\n",
      "Trainable params: 2,573,061\n",
      "Non-trainable params: 480\n",
      "_________________________________________________________________\n",
      "None\n"
     ]
    }
   ],
   "source": [
    "model = Sequential()\n",
    "\n",
    "model.add(TimeDistributed(Conv2D(16, (3, 3) , padding='same', activation='relu'),input_shape=(20,120,120,3)))\n",
    "model.add(TimeDistributed(BatchNormalization()))\n",
    "model.add(TimeDistributed(MaxPooling2D((2, 2))))\n",
    "        \n",
    "model.add(TimeDistributed(Conv2D(32, (3, 3) , padding='same', activation='relu')))\n",
    "model.add(TimeDistributed(BatchNormalization()))\n",
    "model.add(TimeDistributed(MaxPooling2D((2, 2))))\n",
    "        \n",
    "model.add(TimeDistributed(Conv2D(64, (3, 3) , padding='same', activation='relu')))\n",
    "model.add(TimeDistributed(BatchNormalization()))\n",
    "model.add(TimeDistributed(MaxPooling2D((2, 2))))\n",
    "        \n",
    "model.add(TimeDistributed(Conv2D(128, (3, 3) , padding='same', activation='relu')))\n",
    "model.add(TimeDistributed(BatchNormalization()))\n",
    "model.add(TimeDistributed(MaxPooling2D((2, 2))))\n",
    "        \n",
    "\n",
    "model.add(TimeDistributed(Flatten()))\n",
    "\n",
    "\n",
    "model.add(GRU(128))\n",
    "model.add(Dropout(0.5))\n",
    "        \n",
    "model.add(Dense(128,activation='relu'))\n",
    "model.add(Dropout(0.5))\n",
    "        \n",
    "model.add(Dense(5, activation='softmax'))\n",
    "        \n",
    "\n",
    "\n",
    "from keras.optimizers import Adam\n",
    "optimiser =Adam(0.001) #write your optimizer\n",
    "model.compile(optimizer=optimiser, loss='categorical_crossentropy', metrics=['categorical_accuracy'])\n",
    "print (model.summary())"
   ]
  },
  {
   "cell_type": "code",
   "execution_count": 36,
   "metadata": {},
   "outputs": [],
   "source": [
    "train_generator = generator(train_path, train_doc, batch_size)\n",
    "val_generator = generator(val_path, val_doc, batch_size)"
   ]
  },
  {
   "cell_type": "code",
   "execution_count": 37,
   "metadata": {},
   "outputs": [],
   "source": [
    "model_name = 'model_init6' + '_' + str(curr_dt_time).replace(' ','').replace(':','_') + '/'\n",
    "    \n",
    "if not os.path.exists(model_name):\n",
    "    os.mkdir(model_name)\n",
    "        \n",
    "filepath = model_name + 'model-{epoch:05d}-{loss:.5f}-{categorical_accuracy:.5f}-{val_loss:.5f}-{val_categorical_accuracy:.5f}.h5'\n",
    "\n",
    "checkpoint = ModelCheckpoint(filepath, monitor='val_loss', verbose=1, save_best_only=False, save_weights_only=False, mode='auto', period=1)\n",
    "\n",
    "LR = ReduceLROnPlateau(monitor='val_loss', factor=0.01, patience=5, cooldown=4, verbose=1,mode='auto',epsilon=0.0001) # write the REducelronplateau code here\n",
    "callbacks_list = [checkpoint, LR]"
   ]
  },
  {
   "cell_type": "code",
   "execution_count": 38,
   "metadata": {},
   "outputs": [
    {
     "name": "stdout",
     "output_type": "stream",
     "text": [
      "Source path =  ./Project_data/val ; batch size = 64\n",
      "Source path =  ./Project_data/train ; batch size = 64\n",
      "Epoch 1/15\n",
      "11/11 [==============================] - 57s 5s/step - loss: 1.9765 - categorical_accuracy: 0.2406 - val_loss: 1.4721 - val_categorical_accuracy: 0.4000\n",
      "\n",
      "Epoch 00001: saving model to model_init6_2020-12-2811_48_09.796980/model-00001-1.98279-0.24434-1.47208-0.40000.h5\n",
      "Epoch 2/15\n",
      "11/11 [==============================] - 43s 4s/step - loss: 1.5500 - categorical_accuracy: 0.3436 - val_loss: 1.4501 - val_categorical_accuracy: 0.3600\n",
      "\n",
      "Epoch 00002: saving model to model_init6_2020-12-2811_48_09.796980/model-00002-1.55125-0.34087-1.45009-0.36000.h5\n",
      "Epoch 3/15\n",
      "11/11 [==============================] - 46s 4s/step - loss: 1.4768 - categorical_accuracy: 0.3575 - val_loss: 1.3573 - val_categorical_accuracy: 0.3700\n",
      "\n",
      "Epoch 00003: saving model to model_init6_2020-12-2811_48_09.796980/model-00003-1.48056-0.36048-1.35729-0.37000.h5\n",
      "Epoch 4/15\n",
      "11/11 [==============================] - 46s 4s/step - loss: 1.3555 - categorical_accuracy: 0.4105 - val_loss: 1.3485 - val_categorical_accuracy: 0.4200\n",
      "\n",
      "Epoch 00004: saving model to model_init6_2020-12-2811_48_09.796980/model-00004-1.36530-0.40422-1.34849-0.42000.h5\n",
      "Epoch 5/15\n",
      "11/11 [==============================] - 46s 4s/step - loss: 1.3074 - categorical_accuracy: 0.4376 - val_loss: 1.2071 - val_categorical_accuracy: 0.5000\n",
      "\n",
      "Epoch 00005: saving model to model_init6_2020-12-2811_48_09.796980/model-00005-1.31795-0.43288-1.20715-0.50000.h5\n",
      "Epoch 6/15\n",
      "11/11 [==============================] - 45s 4s/step - loss: 1.2727 - categorical_accuracy: 0.4519 - val_loss: 1.2062 - val_categorical_accuracy: 0.5200\n",
      "\n",
      "Epoch 00006: saving model to model_init6_2020-12-2811_48_09.796980/model-00006-1.27941-0.44796-1.20625-0.52000.h5\n",
      "Epoch 7/15\n",
      "11/11 [==============================] - 45s 4s/step - loss: 1.2602 - categorical_accuracy: 0.4646 - val_loss: 1.1076 - val_categorical_accuracy: 0.6300\n",
      "\n",
      "Epoch 00007: saving model to model_init6_2020-12-2811_48_09.796980/model-00007-1.24595-0.47360-1.10763-0.63000.h5\n",
      "Epoch 8/15\n",
      "11/11 [==============================] - 45s 4s/step - loss: 1.1232 - categorical_accuracy: 0.5208 - val_loss: 1.0502 - val_categorical_accuracy: 0.5800\n",
      "\n",
      "Epoch 00008: saving model to model_init6_2020-12-2811_48_09.796980/model-00008-1.11073-0.53544-1.05023-0.58000.h5\n",
      "Epoch 9/15\n",
      "11/11 [==============================] - 45s 4s/step - loss: 1.1079 - categorical_accuracy: 0.5220 - val_loss: 1.1229 - val_categorical_accuracy: 0.5600\n",
      "\n",
      "Epoch 00009: saving model to model_init6_2020-12-2811_48_09.796980/model-00009-1.10209-0.52941-1.12287-0.56000.h5\n",
      "Epoch 10/15\n",
      "11/11 [==============================] - 45s 4s/step - loss: 1.0348 - categorical_accuracy: 0.5702 - val_loss: 1.0887 - val_categorical_accuracy: 0.6400\n",
      "\n",
      "Epoch 00010: saving model to model_init6_2020-12-2811_48_09.796980/model-00010-1.04368-0.56561-1.08873-0.64000.h5\n",
      "Epoch 11/15\n",
      "11/11 [==============================] - 44s 4s/step - loss: 0.9898 - categorical_accuracy: 0.5747 - val_loss: 1.3403 - val_categorical_accuracy: 0.4800\n",
      "\n",
      "Epoch 00011: saving model to model_init6_2020-12-2811_48_09.796980/model-00011-0.98948-0.57768-1.34035-0.48000.h5\n",
      "Epoch 12/15\n",
      "11/11 [==============================] - 44s 4s/step - loss: 0.9311 - categorical_accuracy: 0.5908 - val_loss: 1.1559 - val_categorical_accuracy: 0.6100\n",
      "\n",
      "Epoch 00012: saving model to model_init6_2020-12-2811_48_09.796980/model-00012-0.94409-0.58974-1.15590-0.61000.h5\n",
      "Epoch 13/15\n",
      "11/11 [==============================] - 44s 4s/step - loss: 0.8679 - categorical_accuracy: 0.6579 - val_loss: 0.9206 - val_categorical_accuracy: 0.6600\n",
      "\n",
      "Epoch 00013: saving model to model_init6_2020-12-2811_48_09.796980/model-00013-0.86000-0.66063-0.92064-0.66000.h5\n",
      "Epoch 14/15\n",
      "11/11 [==============================] - 44s 4s/step - loss: 0.8261 - categorical_accuracy: 0.6830 - val_loss: 1.0305 - val_categorical_accuracy: 0.5600\n",
      "\n",
      "Epoch 00014: saving model to model_init6_2020-12-2811_48_09.796980/model-00014-0.83246-0.68477-1.03046-0.56000.h5\n",
      "Epoch 15/15\n",
      "11/11 [==============================] - 44s 4s/step - loss: 0.7855 - categorical_accuracy: 0.6891 - val_loss: 0.9708 - val_categorical_accuracy: 0.6300\n",
      "\n",
      "Epoch 00015: saving model to model_init6_2020-12-2811_48_09.796980/model-00015-0.79384-0.68627-0.97081-0.63000.h5\n"
     ]
    },
    {
     "data": {
      "text/plain": [
       "<keras.callbacks.History at 0x7faac9c13c88>"
      ]
     },
     "execution_count": 38,
     "metadata": {},
     "output_type": "execute_result"
    }
   ],
   "source": [
    "num_epochs = 15\n",
    "model.fit_generator(train_generator, steps_per_epoch=steps_per_epoch, epochs=num_epochs, verbose=1, \n",
    "                    callbacks=callbacks_list, validation_data=val_generator, \n",
    "                    validation_steps=validation_steps, class_weight=None, workers=1, initial_epoch=0)"
   ]
  },
  {
   "cell_type": "markdown",
   "metadata": {},
   "source": [
    "#### Got 63% Validation accuracy. Lets Increase the no. of layers"
   ]
  },
  {
   "cell_type": "code",
   "execution_count": 39,
   "metadata": {},
   "outputs": [
    {
     "name": "stdout",
     "output_type": "stream",
     "text": [
      "_________________________________________________________________\n",
      "Layer (type)                 Output Shape              Param #   \n",
      "=================================================================\n",
      "time_distributed_43 (TimeDis (None, 20, 120, 120, 16)  448       \n",
      "_________________________________________________________________\n",
      "time_distributed_44 (TimeDis (None, 20, 120, 120, 16)  64        \n",
      "_________________________________________________________________\n",
      "time_distributed_45 (TimeDis (None, 20, 60, 60, 16)    0         \n",
      "_________________________________________________________________\n",
      "time_distributed_46 (TimeDis (None, 20, 60, 60, 32)    4640      \n",
      "_________________________________________________________________\n",
      "time_distributed_47 (TimeDis (None, 20, 60, 60, 32)    128       \n",
      "_________________________________________________________________\n",
      "time_distributed_48 (TimeDis (None, 20, 30, 30, 32)    0         \n",
      "_________________________________________________________________\n",
      "time_distributed_49 (TimeDis (None, 20, 30, 30, 64)    18496     \n",
      "_________________________________________________________________\n",
      "time_distributed_50 (TimeDis (None, 20, 30, 30, 64)    256       \n",
      "_________________________________________________________________\n",
      "time_distributed_51 (TimeDis (None, 20, 15, 15, 64)    0         \n",
      "_________________________________________________________________\n",
      "time_distributed_52 (TimeDis (None, 20, 15, 15, 128)   73856     \n",
      "_________________________________________________________________\n",
      "time_distributed_53 (TimeDis (None, 20, 15, 15, 128)   512       \n",
      "_________________________________________________________________\n",
      "time_distributed_54 (TimeDis (None, 20, 7, 7, 128)     0         \n",
      "_________________________________________________________________\n",
      "time_distributed_55 (TimeDis (None, 20, 7, 7, 256)     295168    \n",
      "_________________________________________________________________\n",
      "time_distributed_56 (TimeDis (None, 20, 7, 7, 256)     1024      \n",
      "_________________________________________________________________\n",
      "time_distributed_57 (TimeDis (None, 20, 3, 3, 256)     0         \n",
      "_________________________________________________________________\n",
      "time_distributed_58 (TimeDis (None, 20, 2304)          0         \n",
      "_________________________________________________________________\n",
      "gru_2 (GRU)                  (None, 128)               934272    \n",
      "_________________________________________________________________\n",
      "dropout_25 (Dropout)         (None, 128)               0         \n",
      "_________________________________________________________________\n",
      "dense_13 (Dense)             (None, 128)               16512     \n",
      "_________________________________________________________________\n",
      "dropout_26 (Dropout)         (None, 128)               0         \n",
      "_________________________________________________________________\n",
      "dense_14 (Dense)             (None, 5)                 645       \n",
      "=================================================================\n",
      "Total params: 1,346,021\n",
      "Trainable params: 1,345,029\n",
      "Non-trainable params: 992\n",
      "_________________________________________________________________\n",
      "None\n"
     ]
    }
   ],
   "source": [
    "model = Sequential()\n",
    "\n",
    "model.add(TimeDistributed(Conv2D(16, (3, 3) , padding='same', activation='relu'),input_shape=(20,120,120,3)))\n",
    "model.add(TimeDistributed(BatchNormalization()))\n",
    "model.add(TimeDistributed(MaxPooling2D((2, 2))))\n",
    "        \n",
    "model.add(TimeDistributed(Conv2D(32, (3, 3) , padding='same', activation='relu')))\n",
    "model.add(TimeDistributed(BatchNormalization()))\n",
    "model.add(TimeDistributed(MaxPooling2D((2, 2))))\n",
    "        \n",
    "model.add(TimeDistributed(Conv2D(64, (3, 3) , padding='same', activation='relu')))\n",
    "model.add(TimeDistributed(BatchNormalization()))\n",
    "model.add(TimeDistributed(MaxPooling2D((2, 2))))\n",
    "        \n",
    "model.add(TimeDistributed(Conv2D(128, (3, 3) , padding='same', activation='relu')))\n",
    "model.add(TimeDistributed(BatchNormalization()))\n",
    "model.add(TimeDistributed(MaxPooling2D((2, 2))))\n",
    "\n",
    "model.add(TimeDistributed(Conv2D(256, (3, 3) , padding='same', activation='relu')))\n",
    "model.add(TimeDistributed(BatchNormalization()))\n",
    "model.add(TimeDistributed(MaxPooling2D((2, 2))))\n",
    "        \n",
    "\n",
    "model.add(TimeDistributed(Flatten()))\n",
    "\n",
    "\n",
    "model.add(GRU(128))\n",
    "model.add(Dropout(0.5))\n",
    "        \n",
    "model.add(Dense(128,activation='relu'))\n",
    "model.add(Dropout(0.5))\n",
    "        \n",
    "model.add(Dense(5, activation='softmax'))\n",
    "        \n",
    "\n",
    "\n",
    "from keras.optimizers import Adam\n",
    "optimiser =Adam(0.001) #write your optimizer\n",
    "model.compile(optimizer=optimiser, loss='categorical_crossentropy', metrics=['categorical_accuracy'])\n",
    "print (model.summary())"
   ]
  },
  {
   "cell_type": "code",
   "execution_count": 40,
   "metadata": {},
   "outputs": [],
   "source": [
    "train_generator = generator(train_path, train_doc, batch_size)\n",
    "val_generator = generator(val_path, val_doc, batch_size)"
   ]
  },
  {
   "cell_type": "code",
   "execution_count": 41,
   "metadata": {},
   "outputs": [],
   "source": [
    "model_name = 'model_init7' + '_' + str(curr_dt_time).replace(' ','').replace(':','_') + '/'\n",
    "    \n",
    "if not os.path.exists(model_name):\n",
    "    os.mkdir(model_name)\n",
    "        \n",
    "filepath = model_name + 'model-{epoch:05d}-{loss:.5f}-{categorical_accuracy:.5f}-{val_loss:.5f}-{val_categorical_accuracy:.5f}.h5'\n",
    "\n",
    "checkpoint = ModelCheckpoint(filepath, monitor='val_loss', verbose=1, save_best_only=False, save_weights_only=False, mode='auto', period=1)\n",
    "\n",
    "LR = ReduceLROnPlateau(monitor='val_loss', factor=0.01, patience=5, cooldown=4, verbose=1,mode='auto',epsilon=0.0001) # write the REducelronplateau code here\n",
    "callbacks_list = [checkpoint, LR]"
   ]
  },
  {
   "cell_type": "code",
   "execution_count": 42,
   "metadata": {},
   "outputs": [
    {
     "name": "stdout",
     "output_type": "stream",
     "text": [
      "Source path =  ./Project_data/val ; batch size = 64\n",
      "Source path =  ./Project_data/trainEpoch 1/15\n",
      " ; batch size = 64\n",
      "11/11 [==============================] - 59s 5s/step - loss: 1.7185 - categorical_accuracy: 0.2998 - val_loss: 1.4345 - val_categorical_accuracy: 0.3500\n",
      "\n",
      "Epoch 00001: saving model to model_init7_2020-12-2811_48_09.796980/model-00001-1.72435-0.29713-1.43450-0.35000.h5\n",
      "Epoch 2/15\n",
      "11/11 [==============================] - 45s 4s/step - loss: 1.5104 - categorical_accuracy: 0.3632 - val_loss: 1.4447 - val_categorical_accuracy: 0.3300\n",
      "\n",
      "Epoch 00002: saving model to model_init7_2020-12-2811_48_09.796980/model-00002-1.49109-0.36652-1.44469-0.33000.h5\n",
      "Epoch 3/15\n",
      "11/11 [==============================] - 48s 4s/step - loss: 1.3610 - categorical_accuracy: 0.4178 - val_loss: 1.3384 - val_categorical_accuracy: 0.4700\n",
      "\n",
      "Epoch 00003: saving model to model_init7_2020-12-2811_48_09.796980/model-00003-1.35423-0.41931-1.33838-0.47000.h5\n",
      "Epoch 4/15\n",
      "11/11 [==============================] - 48s 4s/step - loss: 1.3022 - categorical_accuracy: 0.4455 - val_loss: 1.1672 - val_categorical_accuracy: 0.5200\n",
      "\n",
      "Epoch 00004: saving model to model_init7_2020-12-2811_48_09.796980/model-00004-1.28111-0.45098-1.16723-0.52000.h5\n",
      "Epoch 5/15\n",
      "11/11 [==============================] - 47s 4s/step - loss: 1.1963 - categorical_accuracy: 0.4963 - val_loss: 0.9991 - val_categorical_accuracy: 0.6200\n",
      "\n",
      "Epoch 00005: saving model to model_init7_2020-12-2811_48_09.796980/model-00005-1.17941-0.50226-0.99915-0.62000.h5\n",
      "Epoch 6/15\n",
      "11/11 [==============================] - 46s 4s/step - loss: 1.0849 - categorical_accuracy: 0.5295 - val_loss: 0.9156 - val_categorical_accuracy: 0.6400\n",
      "\n",
      "Epoch 00006: saving model to model_init7_2020-12-2811_48_09.796980/model-00006-1.09137-0.53243-0.91558-0.64000.h5\n",
      "Epoch 7/15\n",
      "11/11 [==============================] - 47s 4s/step - loss: 1.0462 - categorical_accuracy: 0.5456 - val_loss: 0.8622 - val_categorical_accuracy: 0.6800\n",
      "\n",
      "Epoch 00007: saving model to model_init7_2020-12-2811_48_09.796980/model-00007-1.04959-0.54449-0.86217-0.68000.h5\n",
      "Epoch 8/15\n",
      "11/11 [==============================] - 46s 4s/step - loss: 0.9563 - categorical_accuracy: 0.6184 - val_loss: 0.8602 - val_categorical_accuracy: 0.6400\n",
      "\n",
      "Epoch 00008: saving model to model_init7_2020-12-2811_48_09.796980/model-00008-0.94282-0.62142-0.86023-0.64000.h5\n",
      "Epoch 9/15\n",
      "11/11 [==============================] - 46s 4s/step - loss: 0.9052 - categorical_accuracy: 0.6322 - val_loss: 1.2754 - val_categorical_accuracy: 0.5500\n",
      "\n",
      "Epoch 00009: saving model to model_init7_2020-12-2811_48_09.796980/model-00009-0.90229-0.63348-1.27541-0.55000.h5\n",
      "Epoch 10/15\n",
      "11/11 [==============================] - 46s 4s/step - loss: 0.7958 - categorical_accuracy: 0.7048 - val_loss: 0.9914 - val_categorical_accuracy: 0.6000\n",
      "\n",
      "Epoch 00010: saving model to model_init7_2020-12-2811_48_09.796980/model-00010-0.80204-0.70287-0.99140-0.60000.h5\n",
      "Epoch 11/15\n",
      "11/11 [==============================] - 46s 4s/step - loss: 0.8228 - categorical_accuracy: 0.6930 - val_loss: 0.8637 - val_categorical_accuracy: 0.6500\n",
      "\n",
      "Epoch 00011: saving model to model_init7_2020-12-2811_48_09.796980/model-00011-0.81497-0.69532-0.86372-0.65000.h5\n",
      "Epoch 12/15\n",
      "11/11 [==============================] - 45s 4s/step - loss: 0.7046 - categorical_accuracy: 0.7262 - val_loss: 1.2490 - val_categorical_accuracy: 0.5500\n",
      "\n",
      "Epoch 00012: saving model to model_init7_2020-12-2811_48_09.796980/model-00012-0.70548-0.72549-1.24904-0.55000.h5\n",
      "Epoch 13/15\n",
      "11/11 [==============================] - 46s 4s/step - loss: 0.6401 - categorical_accuracy: 0.7385 - val_loss: 1.0562 - val_categorical_accuracy: 0.5600\n",
      "\n",
      "Epoch 00013: saving model to model_init7_2020-12-2811_48_09.796980/model-00013-0.64509-0.73605-1.05615-0.56000.h5\n",
      "\n",
      "Epoch 00013: ReduceLROnPlateau reducing learning rate to 1.0000000474974514e-05.\n",
      "Epoch 14/15\n",
      "11/11 [==============================] - 45s 4s/step - loss: 0.5871 - categorical_accuracy: 0.7639 - val_loss: 0.9718 - val_categorical_accuracy: 0.6200\n",
      "\n",
      "Epoch 00014: saving model to model_init7_2020-12-2811_48_09.796980/model-00014-0.58806-0.76772-0.97175-0.62000.h5\n",
      "Epoch 15/15\n",
      "11/11 [==============================] - 46s 4s/step - loss: 0.6216 - categorical_accuracy: 0.7624 - val_loss: 0.9259 - val_categorical_accuracy: 0.6700\n",
      "\n",
      "Epoch 00015: saving model to model_init7_2020-12-2811_48_09.796980/model-00015-0.60481-0.76621-0.92593-0.67000.h5\n"
     ]
    },
    {
     "data": {
      "text/plain": [
       "<keras.callbacks.History at 0x7faac3eb4c18>"
      ]
     },
     "execution_count": 42,
     "metadata": {},
     "output_type": "execute_result"
    }
   ],
   "source": [
    "num_epochs = 15\n",
    "model.fit_generator(train_generator, steps_per_epoch=steps_per_epoch, epochs=num_epochs, verbose=1, \n",
    "                    callbacks=callbacks_list, validation_data=val_generator, \n",
    "                    validation_steps=validation_steps, class_weight=None, workers=1, initial_epoch=0)"
   ]
  },
  {
   "cell_type": "markdown",
   "metadata": {},
   "source": [
    "#### Still Got only 68% validation accuracy. Lets go with again simple models with more layers"
   ]
  },
  {
   "cell_type": "code",
   "execution_count": 55,
   "metadata": {},
   "outputs": [],
   "source": [
    "model = Sequential()\n",
    "\n",
    "\n",
    "model.add(Conv3D(16, (3, 3, 3),padding='same' ,input_shape=(20,120,120,3)))\n",
    "model.add(Activation('relu'))\n",
    "model.add(BatchNormalization())\n",
    "model.add(MaxPooling3D(pool_size=(2, 2, 2)))\n",
    "model.add(Dropout(0.5))\n",
    "\n",
    "model.add(Conv3D(16, (3, 3, 3),padding='same'))\n",
    "model.add(Activation('relu'))\n",
    "model.add(BatchNormalization())\n",
    "model.add(MaxPooling3D(pool_size=(2, 2, 2)))\n",
    "model.add(Dropout(0.5))\n",
    "\n",
    "model.add(Conv3D(32, (3, 3, 3),padding='same'))\n",
    "model.add(Activation('relu'))\n",
    "model.add(BatchNormalization())\n",
    "model.add(MaxPooling3D(pool_size=(2, 2, 2)))\n",
    "model.add(Dropout(0.5))\n",
    "\n",
    "model.add(Conv3D(32, (3, 3, 3),padding='same'))\n",
    "model.add(Activation('relu'))\n",
    "model.add(BatchNormalization())\n",
    "model.add(MaxPooling3D(pool_size=(2, 2, 2)))\n",
    "model.add(Dropout(0.5))\n",
    "\n",
    "\n",
    "\n",
    "model.add(Flatten())\n",
    "model.add(Dense(128,activation='relu'))\n",
    "model.add(BatchNormalization())\n",
    "model.add(Dropout(0.5))\n",
    "\n",
    "model.add(Dense(5,activation='softmax'))"
   ]
  },
  {
   "cell_type": "code",
   "execution_count": 56,
   "metadata": {},
   "outputs": [
    {
     "name": "stdout",
     "output_type": "stream",
     "text": [
      "_________________________________________________________________\n",
      "Layer (type)                 Output Shape              Param #   \n",
      "=================================================================\n",
      "conv3d_50 (Conv3D)           (None, 20, 120, 120, 16)  1312      \n",
      "_________________________________________________________________\n",
      "activation_50 (Activation)   (None, 20, 120, 120, 16)  0         \n",
      "_________________________________________________________________\n",
      "batch_normalization_74 (Batc (None, 20, 120, 120, 16)  64        \n",
      "_________________________________________________________________\n",
      "max_pooling3d_50 (MaxPooling (None, 10, 60, 60, 16)    0         \n",
      "_________________________________________________________________\n",
      "dropout_54 (Dropout)         (None, 10, 60, 60, 16)    0         \n",
      "_________________________________________________________________\n",
      "conv3d_51 (Conv3D)           (None, 10, 60, 60, 16)    6928      \n",
      "_________________________________________________________________\n",
      "activation_51 (Activation)   (None, 10, 60, 60, 16)    0         \n",
      "_________________________________________________________________\n",
      "batch_normalization_75 (Batc (None, 10, 60, 60, 16)    64        \n",
      "_________________________________________________________________\n",
      "max_pooling3d_51 (MaxPooling (None, 5, 30, 30, 16)     0         \n",
      "_________________________________________________________________\n",
      "dropout_55 (Dropout)         (None, 5, 30, 30, 16)     0         \n",
      "_________________________________________________________________\n",
      "conv3d_52 (Conv3D)           (None, 5, 30, 30, 32)     13856     \n",
      "_________________________________________________________________\n",
      "activation_52 (Activation)   (None, 5, 30, 30, 32)     0         \n",
      "_________________________________________________________________\n",
      "batch_normalization_76 (Batc (None, 5, 30, 30, 32)     128       \n",
      "_________________________________________________________________\n",
      "max_pooling3d_52 (MaxPooling (None, 2, 15, 15, 32)     0         \n",
      "_________________________________________________________________\n",
      "dropout_56 (Dropout)         (None, 2, 15, 15, 32)     0         \n",
      "_________________________________________________________________\n",
      "conv3d_53 (Conv3D)           (None, 2, 15, 15, 32)     27680     \n",
      "_________________________________________________________________\n",
      "activation_53 (Activation)   (None, 2, 15, 15, 32)     0         \n",
      "_________________________________________________________________\n",
      "batch_normalization_77 (Batc (None, 2, 15, 15, 32)     128       \n",
      "_________________________________________________________________\n",
      "max_pooling3d_53 (MaxPooling (None, 1, 7, 7, 32)       0         \n",
      "_________________________________________________________________\n",
      "dropout_57 (Dropout)         (None, 1, 7, 7, 32)       0         \n",
      "_________________________________________________________________\n",
      "flatten_11 (Flatten)         (None, 1568)              0         \n",
      "_________________________________________________________________\n",
      "dense_21 (Dense)             (None, 128)               200832    \n",
      "_________________________________________________________________\n",
      "batch_normalization_78 (Batc (None, 128)               512       \n",
      "_________________________________________________________________\n",
      "dropout_58 (Dropout)         (None, 128)               0         \n",
      "_________________________________________________________________\n",
      "dense_22 (Dense)             (None, 5)                 645       \n",
      "=================================================================\n",
      "Total params: 252,149\n",
      "Trainable params: 251,701\n",
      "Non-trainable params: 448\n",
      "_________________________________________________________________\n",
      "None\n"
     ]
    }
   ],
   "source": [
    "optimiser =Adam(0.001) #write your optimizer\n",
    "model.compile(optimizer=optimiser, loss='categorical_crossentropy', metrics=['categorical_accuracy'])\n",
    "print(model.summary())"
   ]
  },
  {
   "cell_type": "code",
   "execution_count": 57,
   "metadata": {},
   "outputs": [],
   "source": [
    "train_generator = generator(train_path, train_doc, batch_size)\n",
    "val_generator = generator(val_path, val_doc, batch_size)"
   ]
  },
  {
   "cell_type": "code",
   "execution_count": 58,
   "metadata": {},
   "outputs": [
    {
     "name": "stdout",
     "output_type": "stream",
     "text": [
      "Source path =  Source path =  ./Project_data/train ; batch size = 64\n",
      "Epoch 1/10\n",
      "./Project_data/val ; batch size = 64\n",
      "11/11 [==============================] - 60s 5s/step - loss: 2.3694 - categorical_accuracy: 0.2404 - val_loss: 2.3929 - val_categorical_accuracy: 0.2100\n",
      "\n",
      "Epoch 00001: saving model to model_init7_2020-12-2811_48_09.796980/model-00001-2.38910-0.23680-2.39289-0.21000.h5\n",
      "Epoch 2/10\n",
      "11/11 [==============================] - 42s 4s/step - loss: 1.8942 - categorical_accuracy: 0.3341 - val_loss: 3.4615 - val_categorical_accuracy: 0.2200\n",
      "\n",
      "Epoch 00002: saving model to model_init7_2020-12-2811_48_09.796980/model-00002-1.89179-0.33333-3.46154-0.22000.h5\n",
      "Epoch 3/10\n",
      "11/11 [==============================] - 47s 4s/step - loss: 1.6609 - categorical_accuracy: 0.4150 - val_loss: 4.2769 - val_categorical_accuracy: 0.2500\n",
      "\n",
      "Epoch 00003: saving model to model_init7_2020-12-2811_48_09.796980/model-00003-1.67887-0.41629-4.27690-0.25000.h5\n",
      "Epoch 4/10\n",
      "11/11 [==============================] - 46s 4s/step - loss: 1.5252 - categorical_accuracy: 0.4510 - val_loss: 4.1305 - val_categorical_accuracy: 0.2500\n",
      "\n",
      "Epoch 00004: saving model to model_init7_2020-12-2811_48_09.796980/model-00004-1.53166-0.44947-4.13052-0.25000.h5\n",
      "Epoch 5/10\n",
      "11/11 [==============================] - 46s 4s/step - loss: 1.6140 - categorical_accuracy: 0.4230 - val_loss: 4.1841 - val_categorical_accuracy: 0.2200\n",
      "\n",
      "Epoch 00005: saving model to model_init7_2020-12-2811_48_09.796980/model-00005-1.60172-0.42232-4.18406-0.22000.h5\n",
      "Epoch 6/10\n",
      "11/11 [==============================] - 46s 4s/step - loss: 1.4850 - categorical_accuracy: 0.4405 - val_loss: 4.7275 - val_categorical_accuracy: 0.2100\n",
      "\n",
      "Epoch 00006: saving model to model_init7_2020-12-2811_48_09.796980/model-00006-1.49728-0.43590-4.72746-0.21000.h5\n",
      "\n",
      "Epoch 00006: ReduceLROnPlateau reducing learning rate to 1.0000000474974514e-05.\n",
      "Epoch 7/10\n",
      "11/11 [==============================] - 45s 4s/step - loss: 1.3168 - categorical_accuracy: 0.5071 - val_loss: 5.2199 - val_categorical_accuracy: 0.1800\n",
      "\n",
      "Epoch 00007: saving model to model_init7_2020-12-2811_48_09.796980/model-00007-1.30912-0.50377-5.21989-0.18000.h5\n",
      "Epoch 8/10\n",
      "11/11 [==============================] - 45s 4s/step - loss: 1.3036 - categorical_accuracy: 0.4869 - val_loss: 5.6489 - val_categorical_accuracy: 0.1600\n",
      "\n",
      "Epoch 00008: saving model to model_init7_2020-12-2811_48_09.796980/model-00008-1.29974-0.49472-5.64892-0.16000.h5\n",
      "Epoch 9/10\n",
      "11/11 [==============================] - 45s 4s/step - loss: 1.3562 - categorical_accuracy: 0.4874 - val_loss: 6.0196 - val_categorical_accuracy: 0.1600\n",
      "\n",
      "Epoch 00009: saving model to model_init7_2020-12-2811_48_09.796980/model-00009-1.30312-0.49774-6.01959-0.16000.h5\n",
      "Epoch 10/10\n",
      "11/11 [==============================] - 44s 4s/step - loss: 1.3903 - categorical_accuracy: 0.4890 - val_loss: 6.3553 - val_categorical_accuracy: 0.1600\n",
      "\n",
      "Epoch 00010: saving model to model_init7_2020-12-2811_48_09.796980/model-00010-1.39500-0.48718-6.35532-0.16000.h5\n"
     ]
    },
    {
     "data": {
      "text/plain": [
       "<keras.callbacks.History at 0x7faacc76f9b0>"
      ]
     },
     "execution_count": 58,
     "metadata": {},
     "output_type": "execute_result"
    }
   ],
   "source": [
    "num_epochs = 10\n",
    "model.fit_generator(train_generator, steps_per_epoch=steps_per_epoch, epochs=num_epochs, verbose=1, \n",
    "                    callbacks=callbacks_list, validation_data=val_generator, \n",
    "                    validation_steps=validation_steps, class_weight=None, workers=1, initial_epoch=0)"
   ]
  },
  {
   "cell_type": "markdown",
   "metadata": {},
   "source": [
    "#### Ahhh!! We got very Less accuracy. Lets remove dropout"
   ]
  },
  {
   "cell_type": "code",
   "execution_count": 59,
   "metadata": {},
   "outputs": [],
   "source": [
    "model = Sequential()\n",
    "\n",
    "\n",
    "model.add(Conv3D(16, (3, 3, 3),padding='same' ,input_shape=(20,120,120,3)))\n",
    "model.add(Activation('relu'))\n",
    "model.add(BatchNormalization())\n",
    "model.add(MaxPooling3D(pool_size=(2, 2, 2)))\n",
    "\n",
    "\n",
    "model.add(Conv3D(16, (3, 3, 3),padding='same'))\n",
    "model.add(Activation('relu'))\n",
    "model.add(BatchNormalization())\n",
    "model.add(MaxPooling3D(pool_size=(2, 2, 2)))\n",
    "\n",
    "\n",
    "model.add(Conv3D(32, (3, 3, 3),padding='same'))\n",
    "model.add(Activation('relu'))\n",
    "model.add(BatchNormalization())\n",
    "model.add(MaxPooling3D(pool_size=(2, 2, 2)))\n",
    "\n",
    "model.add(Conv3D(32, (3, 3, 3),padding='same'))\n",
    "model.add(Activation('relu'))\n",
    "model.add(BatchNormalization())\n",
    "model.add(MaxPooling3D(pool_size=(2, 2, 2)))\n",
    "\n",
    "\n",
    "model.add(Flatten())\n",
    "model.add(Dense(128,activation='relu'))\n",
    "model.add(BatchNormalization())\n",
    "model.add(Dropout(0.25))\n",
    "\n",
    "model.add(Dense(5,activation='softmax'))"
   ]
  },
  {
   "cell_type": "code",
   "execution_count": 60,
   "metadata": {},
   "outputs": [
    {
     "name": "stdout",
     "output_type": "stream",
     "text": [
      "_________________________________________________________________\n",
      "Layer (type)                 Output Shape              Param #   \n",
      "=================================================================\n",
      "conv3d_54 (Conv3D)           (None, 20, 120, 120, 16)  1312      \n",
      "_________________________________________________________________\n",
      "activation_54 (Activation)   (None, 20, 120, 120, 16)  0         \n",
      "_________________________________________________________________\n",
      "batch_normalization_79 (Batc (None, 20, 120, 120, 16)  64        \n",
      "_________________________________________________________________\n",
      "max_pooling3d_54 (MaxPooling (None, 10, 60, 60, 16)    0         \n",
      "_________________________________________________________________\n",
      "conv3d_55 (Conv3D)           (None, 10, 60, 60, 16)    6928      \n",
      "_________________________________________________________________\n",
      "activation_55 (Activation)   (None, 10, 60, 60, 16)    0         \n",
      "_________________________________________________________________\n",
      "batch_normalization_80 (Batc (None, 10, 60, 60, 16)    64        \n",
      "_________________________________________________________________\n",
      "max_pooling3d_55 (MaxPooling (None, 5, 30, 30, 16)     0         \n",
      "_________________________________________________________________\n",
      "conv3d_56 (Conv3D)           (None, 5, 30, 30, 32)     13856     \n",
      "_________________________________________________________________\n",
      "activation_56 (Activation)   (None, 5, 30, 30, 32)     0         \n",
      "_________________________________________________________________\n",
      "batch_normalization_81 (Batc (None, 5, 30, 30, 32)     128       \n",
      "_________________________________________________________________\n",
      "max_pooling3d_56 (MaxPooling (None, 2, 15, 15, 32)     0         \n",
      "_________________________________________________________________\n",
      "conv3d_57 (Conv3D)           (None, 2, 15, 15, 32)     27680     \n",
      "_________________________________________________________________\n",
      "activation_57 (Activation)   (None, 2, 15, 15, 32)     0         \n",
      "_________________________________________________________________\n",
      "batch_normalization_82 (Batc (None, 2, 15, 15, 32)     128       \n",
      "_________________________________________________________________\n",
      "max_pooling3d_57 (MaxPooling (None, 1, 7, 7, 32)       0         \n",
      "_________________________________________________________________\n",
      "flatten_12 (Flatten)         (None, 1568)              0         \n",
      "_________________________________________________________________\n",
      "dense_23 (Dense)             (None, 128)               200832    \n",
      "_________________________________________________________________\n",
      "batch_normalization_83 (Batc (None, 128)               512       \n",
      "_________________________________________________________________\n",
      "dropout_59 (Dropout)         (None, 128)               0         \n",
      "_________________________________________________________________\n",
      "dense_24 (Dense)             (None, 5)                 645       \n",
      "=================================================================\n",
      "Total params: 252,149\n",
      "Trainable params: 251,701\n",
      "Non-trainable params: 448\n",
      "_________________________________________________________________\n",
      "None\n"
     ]
    }
   ],
   "source": [
    "optimiser =Adam(0.001) #write your optimizer\n",
    "model.compile(optimizer=optimiser, loss='categorical_crossentropy', metrics=['categorical_accuracy'])\n",
    "print(model.summary())"
   ]
  },
  {
   "cell_type": "code",
   "execution_count": 61,
   "metadata": {},
   "outputs": [],
   "source": [
    "train_generator = generator(train_path, train_doc, batch_size)\n",
    "val_generator = generator(val_path, val_doc, batch_size)"
   ]
  },
  {
   "cell_type": "code",
   "execution_count": 62,
   "metadata": {},
   "outputs": [
    {
     "name": "stdout",
     "output_type": "stream",
     "text": [
      "Source path =  ./Project_data/val ; batch size = 64\n",
      "Source path =  ./Project_data/train ; batch size = 64\n",
      "Epoch 1/10\n",
      "11/11 [==============================] - 60s 5s/step - loss: 1.5904 - categorical_accuracy: 0.4028 - val_loss: 1.6609 - val_categorical_accuracy: 0.5300\n",
      "\n",
      "Epoch 00001: saving model to model_init7_2020-12-2811_48_09.796980/model-00001-1.61326-0.39367-1.66089-0.53000.h5\n",
      "Epoch 2/10\n",
      "11/11 [==============================] - 43s 4s/step - loss: 0.8622 - categorical_accuracy: 0.6864 - val_loss: 1.5877 - val_categorical_accuracy: 0.5100\n",
      "\n",
      "Epoch 00002: saving model to model_init7_2020-12-2811_48_09.796980/model-00002-0.85882-0.69080-1.58766-0.51000.h5\n",
      "Epoch 3/10\n",
      "11/11 [==============================] - 48s 4s/step - loss: 0.5700 - categorical_accuracy: 0.7903 - val_loss: 1.2292 - val_categorical_accuracy: 0.5400\n",
      "\n",
      "Epoch 00003: saving model to model_init7_2020-12-2811_48_09.796980/model-00003-0.57726-0.78582-1.22918-0.54000.h5\n",
      "Epoch 4/10\n",
      "11/11 [==============================] - 47s 4s/step - loss: 0.3948 - categorical_accuracy: 0.8645 - val_loss: 0.8431 - val_categorical_accuracy: 0.6600\n",
      "\n",
      "Epoch 00004: saving model to model_init7_2020-12-2811_48_09.796980/model-00004-0.39541-0.86425-0.84313-0.66000.h5\n",
      "Epoch 5/10\n",
      "11/11 [==============================] - 48s 4s/step - loss: 0.2578 - categorical_accuracy: 0.9293 - val_loss: 0.7650 - val_categorical_accuracy: 0.6700\n",
      "\n",
      "Epoch 00005: saving model to model_init7_2020-12-2811_48_09.796980/model-00005-0.25279-0.93514-0.76503-0.67000.h5\n",
      "Epoch 6/10\n",
      "11/11 [==============================] - 47s 4s/step - loss: 0.2157 - categorical_accuracy: 0.9449 - val_loss: 0.9924 - val_categorical_accuracy: 0.6300\n",
      "\n",
      "Epoch 00006: saving model to model_init7_2020-12-2811_48_09.796980/model-00006-0.21745-0.94419-0.99243-0.63000.h5\n",
      "Epoch 7/10\n",
      "11/11 [==============================] - 47s 4s/step - loss: 0.1731 - categorical_accuracy: 0.9507 - val_loss: 0.8082 - val_categorical_accuracy: 0.6900\n",
      "\n",
      "Epoch 00007: saving model to model_init7_2020-12-2811_48_09.796980/model-00007-0.15836-0.95777-0.80824-0.69000.h5\n",
      "Epoch 8/10\n",
      "11/11 [==============================] - 47s 4s/step - loss: 0.1295 - categorical_accuracy: 0.9729 - val_loss: 0.8592 - val_categorical_accuracy: 0.6800\n",
      "\n",
      "Epoch 00008: saving model to model_init7_2020-12-2811_48_09.796980/model-00008-0.13232-0.97134-0.85917-0.68000.h5\n",
      "Epoch 9/10\n",
      "11/11 [==============================] - 47s 4s/step - loss: 0.0843 - categorical_accuracy: 0.9905 - val_loss: 0.8583 - val_categorical_accuracy: 0.7100\n",
      "\n",
      "Epoch 00009: saving model to model_init7_2020-12-2811_48_09.796980/model-00009-0.08125-0.99246-0.85828-0.71000.h5\n",
      "Epoch 10/10\n",
      "11/11 [==============================] - 46s 4s/step - loss: 0.0716 - categorical_accuracy: 0.9943 - val_loss: 0.9182 - val_categorical_accuracy: 0.7200\n",
      "\n",
      "Epoch 00010: saving model to model_init7_2020-12-2811_48_09.796980/model-00010-0.07204-0.99397-0.91819-0.72000.h5\n",
      "\n",
      "Epoch 00010: ReduceLROnPlateau reducing learning rate to 1.0000000474974514e-05.\n"
     ]
    },
    {
     "data": {
      "text/plain": [
       "<keras.callbacks.History at 0x7faabeb36438>"
      ]
     },
     "execution_count": 62,
     "metadata": {},
     "output_type": "execute_result"
    }
   ],
   "source": [
    "num_epochs = 10\n",
    "model.fit_generator(train_generator, steps_per_epoch=steps_per_epoch, epochs=num_epochs, verbose=1, \n",
    "                    callbacks=callbacks_list, validation_data=val_generator, \n",
    "                    validation_steps=validation_steps, class_weight=None, workers=1, initial_epoch=0)"
   ]
  },
  {
   "cell_type": "markdown",
   "metadata": {},
   "source": [
    "#### Without dropout model is overfit again"
   ]
  },
  {
   "cell_type": "markdown",
   "metadata": {},
   "source": [
    "### CNN + GRU"
   ]
  },
  {
   "cell_type": "code",
   "execution_count": 9,
   "metadata": {},
   "outputs": [
    {
     "name": "stdout",
     "output_type": "stream",
     "text": [
      "_________________________________________________________________\n",
      "Layer (type)                 Output Shape              Param #   \n",
      "=================================================================\n",
      "time_distributed_1 (TimeDist (None, 20, 120, 120, 16)  448       \n",
      "_________________________________________________________________\n",
      "time_distributed_2 (TimeDist (None, 20, 120, 120, 16)  64        \n",
      "_________________________________________________________________\n",
      "time_distributed_3 (TimeDist (None, 20, 60, 60, 16)    0         \n",
      "_________________________________________________________________\n",
      "time_distributed_4 (TimeDist (None, 20, 60, 60, 32)    4640      \n",
      "_________________________________________________________________\n",
      "time_distributed_5 (TimeDist (None, 20, 60, 60, 32)    128       \n",
      "_________________________________________________________________\n",
      "time_distributed_6 (TimeDist (None, 20, 30, 30, 32)    0         \n",
      "_________________________________________________________________\n",
      "time_distributed_7 (TimeDist (None, 20, 30, 30, 64)    18496     \n",
      "_________________________________________________________________\n",
      "time_distributed_8 (TimeDist (None, 20, 30, 30, 64)    256       \n",
      "_________________________________________________________________\n",
      "time_distributed_9 (TimeDist (None, 20, 15, 15, 64)    0         \n",
      "_________________________________________________________________\n",
      "time_distributed_10 (TimeDis (None, 20, 15, 15, 128)   73856     \n",
      "_________________________________________________________________\n",
      "time_distributed_11 (TimeDis (None, 20, 15, 15, 128)   512       \n",
      "_________________________________________________________________\n",
      "time_distributed_12 (TimeDis (None, 20, 7, 7, 128)     0         \n",
      "_________________________________________________________________\n",
      "time_distributed_13 (TimeDis (None, 20, 6272)          0         \n",
      "_________________________________________________________________\n",
      "gru_1 (GRU)                  (None, 128)               2457984   \n",
      "_________________________________________________________________\n",
      "dropout_1 (Dropout)          (None, 128)               0         \n",
      "_________________________________________________________________\n",
      "dense_1 (Dense)              (None, 128)               16512     \n",
      "_________________________________________________________________\n",
      "dropout_2 (Dropout)          (None, 128)               0         \n",
      "_________________________________________________________________\n",
      "dense_2 (Dense)              (None, 5)                 645       \n",
      "=================================================================\n",
      "Total params: 2,573,541\n",
      "Trainable params: 2,573,061\n",
      "Non-trainable params: 480\n",
      "_________________________________________________________________\n",
      "None\n"
     ]
    }
   ],
   "source": [
    "model = Sequential()\n",
    "\n",
    "model.add(TimeDistributed(Conv2D(16, (3, 3) , padding='same', activation='relu'),\n",
    "                                  input_shape=(20,120,120,3)))\n",
    "model.add(TimeDistributed(BatchNormalization()))\n",
    "model.add(TimeDistributed(MaxPooling2D((2, 2))))\n",
    "        \n",
    "model.add(TimeDistributed(Conv2D(32, (3, 3) , padding='same', activation='relu')))\n",
    "model.add(TimeDistributed(BatchNormalization()))\n",
    "model.add(TimeDistributed(MaxPooling2D((2, 2))))\n",
    "        \n",
    "model.add(TimeDistributed(Conv2D(64, (3, 3) , padding='same', activation='relu')))\n",
    "model.add(TimeDistributed(BatchNormalization()))\n",
    "model.add(TimeDistributed(MaxPooling2D((2, 2))))\n",
    "        \n",
    "model.add(TimeDistributed(Conv2D(128, (3, 3) , padding='same', activation='relu')))\n",
    "model.add(TimeDistributed(BatchNormalization()))\n",
    "model.add(TimeDistributed(MaxPooling2D((2, 2))))\n",
    "        \n",
    "\n",
    "model.add(TimeDistributed(Flatten()))\n",
    "\n",
    "\n",
    "model.add(GRU(128))\n",
    "model.add(Dropout(0.5))\n",
    "        \n",
    "model.add(Dense(128,activation='relu'))\n",
    "model.add(Dropout(0.5))\n",
    "        \n",
    "model.add(Dense(5, activation='softmax'))\n",
    "        \n",
    "\n",
    "\n",
    "from keras.optimizers import Adam\n",
    "optimiser =Adam(0.001) #write your optimizer\n",
    "model.compile(optimizer=optimiser, loss='categorical_crossentropy', metrics=['categorical_accuracy'])\n",
    "print (model.summary())"
   ]
  },
  {
   "cell_type": "code",
   "execution_count": 10,
   "metadata": {},
   "outputs": [],
   "source": [
    "train_generator = generator(train_path, train_doc, batch_size)\n",
    "val_generator = generator(val_path, val_doc, batch_size)"
   ]
  },
  {
   "cell_type": "code",
   "execution_count": 13,
   "metadata": {},
   "outputs": [
    {
     "name": "stderr",
     "output_type": "stream",
     "text": [
      "/mnt/disks/user/anaconda3/lib/python3.6/site-packages/keras/callbacks.py:999: UserWarning: `epsilon` argument is deprecated and will be removed, use `min_delta` instead.\n",
      "  warnings.warn('`epsilon` argument is deprecated and '\n"
     ]
    }
   ],
   "source": [
    "model_name = 'model_init' + '_' + str(curr_dt_time).replace(' ','').replace(':','_') + '/'\n",
    "    \n",
    "if not os.path.exists(model_name):\n",
    "    os.mkdir(model_name)\n",
    "        \n",
    "filepath = model_name + 'model-{epoch:05d}-{loss:.5f}-{categorical_accuracy:.5f}-{val_loss:.5f}-{val_categorical_accuracy:.5f}.h5'\n",
    "\n",
    "checkpoint = ModelCheckpoint(filepath, monitor='val_loss', verbose=1, save_best_only=False, save_weights_only=False, mode='auto', period=1)\n",
    "\n",
    "LR = ReduceLROnPlateau(monitor='val_loss', factor=0.01, patience=5, cooldown=4, verbose=1,mode='auto',epsilon=0.0001) # write the REducelronplateau code here\n",
    "callbacks_list = [checkpoint, LR]"
   ]
  },
  {
   "cell_type": "code",
   "execution_count": 14,
   "metadata": {
    "scrolled": false
   },
   "outputs": [
    {
     "name": "stdout",
     "output_type": "stream",
     "text": [
      "Source path =  ./Project_data/val ; batch size = 75\n",
      "Source path =  ./Project_data/train ; batch size = 75\n",
      "Epoch 1/20\n"
     ]
    },
    {
     "name": "stderr",
     "output_type": "stream",
     "text": [
      "/mnt/disks/user/anaconda3/lib/python3.6/site-packages/ipykernel_launcher.py:26: DeprecationWarning: `imread` is deprecated!\n",
      "`imread` is deprecated in SciPy 1.0.0, and will be removed in 1.2.0.\n",
      "Use ``imageio.imread`` instead.\n",
      "/mnt/disks/user/anaconda3/lib/python3.6/site-packages/ipykernel_launcher.py:30: DeprecationWarning: `imresize` is deprecated!\n",
      "`imresize` is deprecated in SciPy 1.0.0, and will be removed in 1.2.0.\n",
      "Use ``skimage.transform.resize`` instead.\n",
      "/mnt/disks/user/anaconda3/lib/python3.6/site-packages/ipykernel_launcher.py:50: DeprecationWarning: `imread` is deprecated!\n",
      "`imread` is deprecated in SciPy 1.0.0, and will be removed in 1.2.0.\n",
      "Use ``imageio.imread`` instead.\n",
      "/mnt/disks/user/anaconda3/lib/python3.6/site-packages/ipykernel_launcher.py:54: DeprecationWarning: `imresize` is deprecated!\n",
      "`imresize` is deprecated in SciPy 1.0.0, and will be removed in 1.2.0.\n",
      "Use ``skimage.transform.resize`` instead.\n"
     ]
    },
    {
     "name": "stdout",
     "output_type": "stream",
     "text": [
      "9/9 [==============================] - 68s 8s/step - loss: 2.0004 - categorical_accuracy: 0.2150 - val_loss: 1.4828 - val_categorical_accuracy: 0.4500\n",
      "\n",
      "Epoch 00001: saving model to model_init_2020-12-2715_09_40.789923/model-00001-2.00078-0.21569-1.48275-0.45000.h5\n",
      "Epoch 2/20\n",
      "9/9 [==============================] - 47s 5s/step - loss: 1.6252 - categorical_accuracy: 0.3026 - val_loss: 1.4045 - val_categorical_accuracy: 0.4800\n",
      "\n",
      "Epoch 00002: saving model to model_init_2020-12-2715_09_40.789923/model-00002-1.62636-0.30317-1.40452-0.48000.h5\n",
      "Epoch 3/20\n",
      "9/9 [==============================] - 52s 6s/step - loss: 1.4515 - categorical_accuracy: 0.3752 - val_loss: 1.4040 - val_categorical_accuracy: 0.3500\n",
      "\n",
      "Epoch 00003: saving model to model_init_2020-12-2715_09_40.789923/model-00003-1.45511-0.37406-1.40400-0.35000.h5\n",
      "Epoch 4/20\n",
      "9/9 [==============================] - 51s 6s/step - loss: 1.3099 - categorical_accuracy: 0.4459 - val_loss: 1.3662 - val_categorical_accuracy: 0.4000\n",
      "\n",
      "Epoch 00004: saving model to model_init_2020-12-2715_09_40.789923/model-00004-1.31101-0.44646-1.36621-0.40000.h5\n",
      "Epoch 5/20\n",
      "9/9 [==============================] - 51s 6s/step - loss: 1.3012 - categorical_accuracy: 0.4675 - val_loss: 1.2448 - val_categorical_accuracy: 0.4700\n",
      "\n",
      "Epoch 00005: saving model to model_init_2020-12-2715_09_40.789923/model-00005-1.30151-0.46757-1.24479-0.47000.h5\n",
      "Epoch 6/20\n",
      "9/9 [==============================] - 51s 6s/step - loss: 1.1856 - categorical_accuracy: 0.5125 - val_loss: 1.1873 - val_categorical_accuracy: 0.5400\n",
      "\n",
      "Epoch 00006: saving model to model_init_2020-12-2715_09_40.789923/model-00006-1.18592-0.51282-1.18731-0.54000.h5\n",
      "Epoch 7/20\n",
      "9/9 [==============================] - 52s 6s/step - loss: 1.1043 - categorical_accuracy: 0.5400 - val_loss: 1.2277 - val_categorical_accuracy: 0.4400\n",
      "\n",
      "Epoch 00007: saving model to model_init_2020-12-2715_09_40.789923/model-00007-1.10453-0.53997-1.22774-0.44000.h5\n",
      "Epoch 8/20\n",
      "9/9 [==============================] - 51s 6s/step - loss: 1.0564 - categorical_accuracy: 0.5605 - val_loss: 1.2664 - val_categorical_accuracy: 0.4800\n",
      "\n",
      "Epoch 00008: saving model to model_init_2020-12-2715_09_40.789923/model-00008-1.05737-0.55958-1.26636-0.48000.h5\n",
      "Epoch 9/20\n",
      "9/9 [==============================] - 51s 6s/step - loss: 0.9469 - categorical_accuracy: 0.6068 - val_loss: 0.9461 - val_categorical_accuracy: 0.6300\n",
      "\n",
      "Epoch 00009: saving model to model_init_2020-12-2715_09_40.789923/model-00009-0.94529-0.60784-0.94610-0.63000.h5\n",
      "Epoch 10/20\n",
      "9/9 [==============================] - 51s 6s/step - loss: 0.9515 - categorical_accuracy: 0.6147 - val_loss: 0.9147 - val_categorical_accuracy: 0.6400\n",
      "\n",
      "Epoch 00010: saving model to model_init_2020-12-2715_09_40.789923/model-00010-0.95218-0.61388-0.91467-0.64000.h5\n",
      "Epoch 11/20\n",
      "9/9 [==============================] - 51s 6s/step - loss: 0.8252 - categorical_accuracy: 0.6889 - val_loss: 0.8442 - val_categorical_accuracy: 0.6300\n",
      "\n",
      "Epoch 00011: saving model to model_init_2020-12-2715_09_40.789923/model-00011-0.82368-0.68929-0.84415-0.63000.h5\n",
      "Epoch 12/20\n",
      "9/9 [==============================] - 51s 6s/step - loss: 0.7344 - categorical_accuracy: 0.7016 - val_loss: 0.8243 - val_categorical_accuracy: 0.6900\n",
      "\n",
      "Epoch 00012: saving model to model_init_2020-12-2715_09_40.789923/model-00012-0.73412-0.70136-0.82430-0.69000.h5\n",
      "Epoch 13/20\n",
      "9/9 [==============================] - 51s 6s/step - loss: 0.6869 - categorical_accuracy: 0.7236 - val_loss: 0.9319 - val_categorical_accuracy: 0.6400\n",
      "\n",
      "Epoch 00013: saving model to model_init_2020-12-2715_09_40.789923/model-00013-0.68948-0.72247-0.93190-0.64000.h5\n",
      "Epoch 14/20\n",
      "9/9 [==============================] - 51s 6s/step - loss: 0.6848 - categorical_accuracy: 0.7379 - val_loss: 0.7413 - val_categorical_accuracy: 0.7000\n",
      "\n",
      "Epoch 00014: saving model to model_init_2020-12-2715_09_40.789923/model-00014-0.68281-0.73906-0.74129-0.70000.h5\n",
      "Epoch 15/20\n",
      "9/9 [==============================] - 51s 6s/step - loss: 0.5817 - categorical_accuracy: 0.7891 - val_loss: 0.8152 - val_categorical_accuracy: 0.6700\n",
      "\n",
      "Epoch 00015: saving model to model_init_2020-12-2715_09_40.789923/model-00015-0.57967-0.79035-0.81525-0.67000.h5\n",
      "Epoch 16/20\n",
      "9/9 [==============================] - 51s 6s/step - loss: 0.5209 - categorical_accuracy: 0.7892 - val_loss: 0.7960 - val_categorical_accuracy: 0.6600\n",
      "\n",
      "Epoch 00016: saving model to model_init_2020-12-2715_09_40.789923/model-00016-0.52013-0.78884-0.79603-0.66000.h5\n",
      "Epoch 17/20\n",
      "9/9 [==============================] - 51s 6s/step - loss: 0.4518 - categorical_accuracy: 0.8426 - val_loss: 0.8373 - val_categorical_accuracy: 0.7300\n",
      "\n",
      "Epoch 00017: saving model to model_init_2020-12-2715_09_40.789923/model-00017-0.45277-0.84163-0.83728-0.73000.h5\n",
      "Epoch 18/20\n",
      "9/9 [==============================] - 51s 6s/step - loss: 0.4474 - categorical_accuracy: 0.8220 - val_loss: 0.7297 - val_categorical_accuracy: 0.7300\n",
      "\n",
      "Epoch 00018: saving model to model_init_2020-12-2715_09_40.789923/model-00018-0.44478-0.82353-0.72969-0.73000.h5\n",
      "Epoch 19/20\n",
      "9/9 [==============================] - 51s 6s/step - loss: 0.4282 - categorical_accuracy: 0.8387 - val_loss: 0.6023 - val_categorical_accuracy: 0.7800\n",
      "\n",
      "Epoch 00019: saving model to model_init_2020-12-2715_09_40.789923/model-00019-0.42820-0.83861-0.60227-0.78000.h5\n",
      "Epoch 20/20\n",
      "9/9 [==============================] - 50s 6s/step - loss: 0.4048 - categorical_accuracy: 0.8500 - val_loss: 0.6486 - val_categorical_accuracy: 0.7700\n",
      "\n",
      "Epoch 00020: saving model to model_init_2020-12-2715_09_40.789923/model-00020-0.40232-0.85068-0.64862-0.77000.h5\n"
     ]
    },
    {
     "data": {
      "text/plain": [
       "<keras.callbacks.History at 0x7f15022e3400>"
      ]
     },
     "execution_count": 14,
     "metadata": {},
     "output_type": "execute_result"
    }
   ],
   "source": [
    "model.fit_generator(train_generator, steps_per_epoch=steps_per_epoch, epochs=num_epochs, verbose=1, \n",
    "                    callbacks=callbacks_list, validation_data=val_generator, \n",
    "                    validation_steps=validation_steps, class_weight=None, workers=1, initial_epoch=0)"
   ]
  },
  {
   "cell_type": "markdown",
   "metadata": {},
   "source": [
    "#### We got 78% validation accuracy and 83% train accuracy at the 19 epoch"
   ]
  },
  {
   "cell_type": "markdown",
   "metadata": {},
   "source": [
    "### Recommendation for increase the accuracy\n",
    "As we try different differnet __Architectures__ of the __Model__ but still got __78% validation accuracy__. \n",
    "We can __increase accuracy__ by increase the __image resolution__ and __no. of frames__. Here we are using __120x120 image size and 20 frames__. We can try __140x140 or 160X160 image size and use 25 or 30 frames__ to __increase__ the __accuracy__."
   ]
  },
  {
   "cell_type": "code",
   "execution_count": null,
   "metadata": {},
   "outputs": [],
   "source": []
  }
 ],
 "metadata": {
  "kernelspec": {
   "display_name": "Python 3",
   "language": "python",
   "name": "python3"
  },
  "language_info": {
   "codemirror_mode": {
    "name": "ipython",
    "version": 3
   },
   "file_extension": ".py",
   "mimetype": "text/x-python",
   "name": "python",
   "nbconvert_exporter": "python",
   "pygments_lexer": "ipython3",
   "version": "3.7.4"
  }
 },
 "nbformat": 4,
 "nbformat_minor": 2
}
